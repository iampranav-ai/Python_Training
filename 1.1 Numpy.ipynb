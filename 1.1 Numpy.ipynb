{
 "cells": [
  {
   "cell_type": "markdown",
   "id": "9eb6f5f6",
   "metadata": {},
   "source": [
    "<h1 style=\"color:red\">Numpy</h1>"
   ]
  },
  {
   "cell_type": "markdown",
   "id": "d1b6ff16",
   "metadata": {},
   "source": [
    "<h2 style = \"color:blue\">Array</h2>\n",
    "\n",
    "    1. collection of same data types element\n",
    "    2. continuous memory allocation\n",
    "    3. static size of array\n",
    "    4. Mutable\n",
    "    5. Indexing"
   ]
  },
  {
   "cell_type": "code",
   "execution_count": 1,
   "id": "6566a25f",
   "metadata": {},
   "outputs": [
    {
     "name": "stdout",
     "output_type": "stream",
     "text": [
      "144 µs ± 9.68 µs per loop (mean ± std. dev. of 7 runs, 10000 loops each)\n"
     ]
    }
   ],
   "source": [
    "%%timeit\n",
    "l1 = list(range(1000))\n",
    "l2 = list(range(1000))\n",
    "l3 = [l1[i]+l2[i] for i in range(1000)]"
   ]
  },
  {
   "cell_type": "code",
   "execution_count": 4,
   "id": "def2a822",
   "metadata": {},
   "outputs": [],
   "source": [
    "import numpy as np\n",
    "import matplotlib.pyplot as plt"
   ]
  },
  {
   "cell_type": "code",
   "execution_count": 3,
   "id": "469b5e86",
   "metadata": {},
   "outputs": [
    {
     "name": "stdout",
     "output_type": "stream",
     "text": [
      "1.24 µs ± 15.9 ns per loop (mean ± std. dev. of 7 runs, 1000000 loops each)\n"
     ]
    }
   ],
   "source": [
    "%%timeit\n",
    "a1 = np.array(1000)\n",
    "a2 = np.array(1000)\n",
    "a3 = a1+a2"
   ]
  },
  {
   "cell_type": "markdown",
   "id": "cdd89f06",
   "metadata": {},
   "source": [
    "### 1 D Array\n",
    "\n",
    "    collections of element"
   ]
  },
  {
   "cell_type": "code",
   "execution_count": 6,
   "id": "9607f02c",
   "metadata": {},
   "outputs": [
    {
     "data": {
      "text/plain": [
       "array([1, 2, 3, 4, 5, 6, 7])"
      ]
     },
     "execution_count": 6,
     "metadata": {},
     "output_type": "execute_result"
    }
   ],
   "source": [
    "a1 = np.array([1,2,3,4,5,6,7])\n",
    "a1"
   ]
  },
  {
   "cell_type": "code",
   "execution_count": 7,
   "id": "2fe3c1a2",
   "metadata": {},
   "outputs": [
    {
     "data": {
      "text/plain": [
       "numpy.ndarray"
      ]
     },
     "execution_count": 7,
     "metadata": {},
     "output_type": "execute_result"
    }
   ],
   "source": [
    "type(a1)"
   ]
  },
  {
   "cell_type": "code",
   "execution_count": 10,
   "id": "62dff824",
   "metadata": {},
   "outputs": [
    {
     "data": {
      "text/plain": [
       "4.0"
      ]
     },
     "execution_count": 10,
     "metadata": {},
     "output_type": "execute_result"
    }
   ],
   "source": [
    "a1.mean()"
   ]
  },
  {
   "cell_type": "code",
   "execution_count": 11,
   "id": "e32b7555",
   "metadata": {},
   "outputs": [
    {
     "ename": "AttributeError",
     "evalue": "'numpy.ndarray' object has no attribute 'median'",
     "output_type": "error",
     "traceback": [
      "\u001b[1;31m---------------------------------------------------------------------------\u001b[0m",
      "\u001b[1;31mAttributeError\u001b[0m                            Traceback (most recent call last)",
      "\u001b[1;32mC:\\Users\\PANKAJ~1\\AppData\\Local\\Temp/ipykernel_2020/3995609015.py\u001b[0m in \u001b[0;36m<module>\u001b[1;34m\u001b[0m\n\u001b[1;32m----> 1\u001b[1;33m \u001b[0ma1\u001b[0m\u001b[1;33m.\u001b[0m\u001b[0mmedian\u001b[0m\u001b[1;33m(\u001b[0m\u001b[1;33m)\u001b[0m\u001b[1;33m\u001b[0m\u001b[1;33m\u001b[0m\u001b[0m\n\u001b[0m",
      "\u001b[1;31mAttributeError\u001b[0m: 'numpy.ndarray' object has no attribute 'median'"
     ]
    }
   ],
   "source": [
    "a1.median()"
   ]
  },
  {
   "cell_type": "code",
   "execution_count": 12,
   "id": "4b327f31",
   "metadata": {},
   "outputs": [
    {
     "data": {
      "text/plain": [
       "4.0"
      ]
     },
     "execution_count": 12,
     "metadata": {},
     "output_type": "execute_result"
    }
   ],
   "source": [
    "np.median(a1)"
   ]
  },
  {
   "cell_type": "code",
   "execution_count": 13,
   "id": "767759cb",
   "metadata": {},
   "outputs": [],
   "source": [
    "### numpy documentation"
   ]
  },
  {
   "cell_type": "code",
   "execution_count": 14,
   "id": "e31422d4",
   "metadata": {},
   "outputs": [
    {
     "name": "stdout",
     "output_type": "stream",
     "text": [
      "\n",
      " Dimension -->  1\n",
      "\n",
      " Size -->  7\n",
      "\n",
      " Shape -->  (7,)\n"
     ]
    }
   ],
   "source": [
    "print(\"\\n Dimension --> \", a1.ndim)\n",
    "print(\"\\n Size --> \", a1.size)\n",
    "print(\"\\n Shape --> \", a1.shape)"
   ]
  },
  {
   "cell_type": "code",
   "execution_count": 15,
   "id": "2daee640",
   "metadata": {},
   "outputs": [
    {
     "data": {
      "text/plain": [
       "28"
      ]
     },
     "execution_count": 15,
     "metadata": {},
     "output_type": "execute_result"
    }
   ],
   "source": [
    "a1.sum()"
   ]
  },
  {
   "cell_type": "code",
   "execution_count": 16,
   "id": "f3afa239",
   "metadata": {},
   "outputs": [
    {
     "data": {
      "text/plain": [
       "7"
      ]
     },
     "execution_count": 16,
     "metadata": {},
     "output_type": "execute_result"
    }
   ],
   "source": [
    "a1.max()"
   ]
  },
  {
   "cell_type": "code",
   "execution_count": 17,
   "id": "8919c078",
   "metadata": {},
   "outputs": [
    {
     "data": {
      "text/plain": [
       "1"
      ]
     },
     "execution_count": 17,
     "metadata": {},
     "output_type": "execute_result"
    }
   ],
   "source": [
    "a1.min()"
   ]
  },
  {
   "cell_type": "code",
   "execution_count": 18,
   "id": "59de1f50",
   "metadata": {},
   "outputs": [
    {
     "data": {
      "text/plain": [
       "7"
      ]
     },
     "execution_count": 18,
     "metadata": {},
     "output_type": "execute_result"
    }
   ],
   "source": [
    "a1[-1]"
   ]
  },
  {
   "cell_type": "code",
   "execution_count": 19,
   "id": "ab2bbe78",
   "metadata": {},
   "outputs": [
    {
     "data": {
      "text/plain": [
       "array([7, 6, 5, 4, 3, 2, 1])"
      ]
     },
     "execution_count": 19,
     "metadata": {},
     "output_type": "execute_result"
    }
   ],
   "source": [
    "a1[::-1]"
   ]
  },
  {
   "cell_type": "code",
   "execution_count": 20,
   "id": "7b3010c7",
   "metadata": {},
   "outputs": [
    {
     "data": {
      "text/plain": [
       "array([1, 3, 5, 7])"
      ]
     },
     "execution_count": 20,
     "metadata": {},
     "output_type": "execute_result"
    }
   ],
   "source": [
    "a1[::2]"
   ]
  },
  {
   "cell_type": "code",
   "execution_count": 21,
   "id": "ae1347de",
   "metadata": {},
   "outputs": [],
   "source": [
    "arr = np.random.randint(1,10,10)"
   ]
  },
  {
   "cell_type": "code",
   "execution_count": 22,
   "id": "1413d932",
   "metadata": {},
   "outputs": [
    {
     "data": {
      "text/plain": [
       "array([1, 6, 8, 4, 2, 7, 1, 6, 4, 6])"
      ]
     },
     "execution_count": 22,
     "metadata": {},
     "output_type": "execute_result"
    }
   ],
   "source": [
    "arr"
   ]
  },
  {
   "cell_type": "code",
   "execution_count": 24,
   "id": "11439643",
   "metadata": {},
   "outputs": [
    {
     "data": {
      "text/plain": [
       "array([6, 4, 6, 1, 7])"
      ]
     },
     "execution_count": 24,
     "metadata": {},
     "output_type": "execute_result"
    }
   ],
   "source": [
    "arr[-1:4:-1]"
   ]
  },
  {
   "cell_type": "markdown",
   "id": "3c7288d6",
   "metadata": {},
   "source": [
    "### 2 D Array\n",
    "\n",
    "    collections of 1D Array"
   ]
  },
  {
   "cell_type": "code",
   "execution_count": 25,
   "id": "db9c8916",
   "metadata": {},
   "outputs": [],
   "source": [
    "a2 = np.array([\n",
    "    [1,2,3,4],\n",
    "    [4,5,6,7],\n",
    "    [6,7,8,9]\n",
    "])"
   ]
  },
  {
   "cell_type": "code",
   "execution_count": 26,
   "id": "70ddc181",
   "metadata": {},
   "outputs": [
    {
     "data": {
      "text/plain": [
       "array([[1, 2, 3, 4],\n",
       "       [4, 5, 6, 7],\n",
       "       [6, 7, 8, 9]])"
      ]
     },
     "execution_count": 26,
     "metadata": {},
     "output_type": "execute_result"
    }
   ],
   "source": [
    "a2"
   ]
  },
  {
   "cell_type": "code",
   "execution_count": 27,
   "id": "e18ba558",
   "metadata": {},
   "outputs": [
    {
     "name": "stdout",
     "output_type": "stream",
     "text": [
      "\n",
      " Dimension -->  2\n",
      "\n",
      " Size -->  12\n",
      "\n",
      " Shape -->  (3, 4)\n"
     ]
    }
   ],
   "source": [
    "print(\"\\n Dimension --> \", a2.ndim)\n",
    "print(\"\\n Size --> \", a2.size)\n",
    "print(\"\\n Shape --> \", a2.shape)"
   ]
  },
  {
   "cell_type": "code",
   "execution_count": 29,
   "id": "b9a7b0c1",
   "metadata": {},
   "outputs": [],
   "source": [
    "a1[3] = 14\n",
    "#mutable"
   ]
  },
  {
   "cell_type": "code",
   "execution_count": 30,
   "id": "8824db8b",
   "metadata": {},
   "outputs": [
    {
     "data": {
      "text/plain": [
       "array([ 1,  2,  3, 14,  5,  6,  7])"
      ]
     },
     "execution_count": 30,
     "metadata": {},
     "output_type": "execute_result"
    }
   ],
   "source": [
    "a1"
   ]
  },
  {
   "cell_type": "code",
   "execution_count": 31,
   "id": "1cb8ee15",
   "metadata": {},
   "outputs": [
    {
     "data": {
      "text/plain": [
       "array([[1, 2, 3, 4],\n",
       "       [4, 5, 6, 7],\n",
       "       [6, 7, 8, 9]])"
      ]
     },
     "execution_count": 31,
     "metadata": {},
     "output_type": "execute_result"
    }
   ],
   "source": [
    "a2"
   ]
  },
  {
   "cell_type": "code",
   "execution_count": 32,
   "id": "adac9c9f",
   "metadata": {},
   "outputs": [
    {
     "data": {
      "text/plain": [
       "2"
      ]
     },
     "execution_count": 32,
     "metadata": {},
     "output_type": "execute_result"
    }
   ],
   "source": [
    "[1,2,3,4,5][True]"
   ]
  },
  {
   "cell_type": "code",
   "execution_count": 33,
   "id": "e38d2c9b",
   "metadata": {},
   "outputs": [
    {
     "data": {
      "text/plain": [
       "array([4, 5, 6, 7])"
      ]
     },
     "execution_count": 33,
     "metadata": {},
     "output_type": "execute_result"
    }
   ],
   "source": [
    "a2[1]"
   ]
  },
  {
   "cell_type": "code",
   "execution_count": 34,
   "id": "db6f5cc2",
   "metadata": {},
   "outputs": [
    {
     "data": {
      "text/plain": [
       "array([[1, 2, 3, 4],\n",
       "       [4, 5, 6, 7],\n",
       "       [6, 7, 8, 9]])"
      ]
     },
     "execution_count": 34,
     "metadata": {},
     "output_type": "execute_result"
    }
   ],
   "source": [
    "a2"
   ]
  },
  {
   "cell_type": "code",
   "execution_count": 35,
   "id": "75c7633f",
   "metadata": {},
   "outputs": [
    {
     "data": {
      "text/plain": [
       "6"
      ]
     },
     "execution_count": 35,
     "metadata": {},
     "output_type": "execute_result"
    }
   ],
   "source": [
    "a2[1][2]"
   ]
  },
  {
   "cell_type": "code",
   "execution_count": 36,
   "id": "688bf14a",
   "metadata": {},
   "outputs": [
    {
     "data": {
      "text/plain": [
       "array([[6, 7, 8, 9],\n",
       "       [4, 5, 6, 7],\n",
       "       [1, 2, 3, 4]])"
      ]
     },
     "execution_count": 36,
     "metadata": {},
     "output_type": "execute_result"
    }
   ],
   "source": [
    "a2[::-1]"
   ]
  },
  {
   "cell_type": "code",
   "execution_count": 37,
   "id": "6444b79d",
   "metadata": {},
   "outputs": [
    {
     "data": {
      "text/plain": [
       "array([[1, 2, 3, 4],\n",
       "       [4, 5, 6, 7],\n",
       "       [6, 7, 8, 9]])"
      ]
     },
     "execution_count": 37,
     "metadata": {},
     "output_type": "execute_result"
    }
   ],
   "source": [
    "a2"
   ]
  },
  {
   "cell_type": "code",
   "execution_count": 39,
   "id": "8729bb58",
   "metadata": {},
   "outputs": [
    {
     "data": {
      "text/plain": [
       "array([[6, 7, 8, 9],\n",
       "       [4, 5, 6, 7],\n",
       "       [1, 2, 3, 4]])"
      ]
     },
     "execution_count": 39,
     "metadata": {},
     "output_type": "execute_result"
    }
   ],
   "source": [
    "a2[::-1]"
   ]
  },
  {
   "cell_type": "code",
   "execution_count": 38,
   "id": "a56a6cdf",
   "metadata": {},
   "outputs": [
    {
     "data": {
      "text/plain": [
       "array([[1, 2, 3, 4],\n",
       "       [4, 5, 6, 7],\n",
       "       [6, 7, 8, 9]])"
      ]
     },
     "execution_count": 38,
     "metadata": {},
     "output_type": "execute_result"
    }
   ],
   "source": [
    "a2[::-1][::-1]"
   ]
  },
  {
   "cell_type": "code",
   "execution_count": 40,
   "id": "f39b35b0",
   "metadata": {},
   "outputs": [
    {
     "data": {
      "text/plain": [
       "8"
      ]
     },
     "execution_count": 40,
     "metadata": {},
     "output_type": "execute_result"
    }
   ],
   "source": [
    "# a2[row, col]\n",
    "a2[2,2]"
   ]
  },
  {
   "cell_type": "code",
   "execution_count": 41,
   "id": "5ca14d11",
   "metadata": {},
   "outputs": [
    {
     "data": {
      "text/plain": [
       "7"
      ]
     },
     "execution_count": 41,
     "metadata": {},
     "output_type": "execute_result"
    }
   ],
   "source": [
    "a2[1,3]"
   ]
  },
  {
   "cell_type": "code",
   "execution_count": 42,
   "id": "a9e57edf",
   "metadata": {},
   "outputs": [
    {
     "data": {
      "text/plain": [
       "array([[9, 8, 7, 6],\n",
       "       [7, 6, 5, 4],\n",
       "       [4, 3, 2, 1]])"
      ]
     },
     "execution_count": 42,
     "metadata": {},
     "output_type": "execute_result"
    }
   ],
   "source": [
    "a2[::-1,::-1]"
   ]
  },
  {
   "cell_type": "code",
   "execution_count": 43,
   "id": "e8b95dc0",
   "metadata": {},
   "outputs": [
    {
     "data": {
      "text/plain": [
       "array([[4, 3, 2, 1],\n",
       "       [7, 6, 5, 4],\n",
       "       [9, 8, 7, 6]])"
      ]
     },
     "execution_count": 43,
     "metadata": {},
     "output_type": "execute_result"
    }
   ],
   "source": [
    "a2[:,::-1]"
   ]
  },
  {
   "cell_type": "code",
   "execution_count": 44,
   "id": "fced2138",
   "metadata": {},
   "outputs": [
    {
     "data": {
      "text/plain": [
       "array([[1, 2, 3, 4],\n",
       "       [6, 7, 8, 9]])"
      ]
     },
     "execution_count": 44,
     "metadata": {},
     "output_type": "execute_result"
    }
   ],
   "source": [
    "a2[::2]"
   ]
  },
  {
   "cell_type": "code",
   "execution_count": 45,
   "id": "40e1f6ec",
   "metadata": {},
   "outputs": [
    {
     "data": {
      "text/plain": [
       "array([3, 8])"
      ]
     },
     "execution_count": 45,
     "metadata": {},
     "output_type": "execute_result"
    }
   ],
   "source": [
    "a2[::2,2]"
   ]
  },
  {
   "cell_type": "code",
   "execution_count": 46,
   "id": "f56e3398",
   "metadata": {},
   "outputs": [],
   "source": [
    "arr2 = np.random.randint(1, 10, (5, 5))"
   ]
  },
  {
   "cell_type": "code",
   "execution_count": 47,
   "id": "974ea30d",
   "metadata": {},
   "outputs": [
    {
     "data": {
      "text/plain": [
       "array([[5, 6, 4, 2, 2],\n",
       "       [3, 2, 2, 8, 5],\n",
       "       [6, 4, 4, 9, 6],\n",
       "       [9, 6, 6, 6, 5],\n",
       "       [6, 3, 9, 5, 6]])"
      ]
     },
     "execution_count": 47,
     "metadata": {},
     "output_type": "execute_result"
    }
   ],
   "source": [
    "arr2"
   ]
  },
  {
   "cell_type": "code",
   "execution_count": 48,
   "id": "700be962",
   "metadata": {},
   "outputs": [
    {
     "data": {
      "text/plain": [
       "dtype('int32')"
      ]
     },
     "execution_count": 48,
     "metadata": {},
     "output_type": "execute_result"
    }
   ],
   "source": [
    "arr2.dtype"
   ]
  },
  {
   "cell_type": "code",
   "execution_count": 52,
   "id": "992f9a2c",
   "metadata": {},
   "outputs": [
    {
     "data": {
      "text/plain": [
       "array([ 1. ,  2. , 45.6, 56.7])"
      ]
     },
     "execution_count": 52,
     "metadata": {},
     "output_type": "execute_result"
    }
   ],
   "source": [
    "a = np.array([1,2,45.6,56.7])\n",
    "a"
   ]
  },
  {
   "cell_type": "code",
   "execution_count": 53,
   "id": "10e0eb11",
   "metadata": {},
   "outputs": [
    {
     "data": {
      "text/plain": [
       "dtype('float64')"
      ]
     },
     "execution_count": 53,
     "metadata": {},
     "output_type": "execute_result"
    }
   ],
   "source": [
    "a.dtype"
   ]
  },
  {
   "cell_type": "code",
   "execution_count": 57,
   "id": "e394ab0f",
   "metadata": {},
   "outputs": [
    {
     "data": {
      "text/plain": [
       "array(['1', '2', '45.6', '56.7', 'Hello'], dtype='<U32')"
      ]
     },
     "execution_count": 57,
     "metadata": {},
     "output_type": "execute_result"
    }
   ],
   "source": [
    "np.array([1,2,45.6,56.7,'Hello'])"
   ]
  },
  {
   "cell_type": "code",
   "execution_count": 58,
   "id": "985106ff",
   "metadata": {},
   "outputs": [
    {
     "data": {
      "text/plain": [
       "array(['hello', 'hi', 'welcome'], dtype='<U7')"
      ]
     },
     "execution_count": 58,
     "metadata": {},
     "output_type": "execute_result"
    }
   ],
   "source": [
    "np.array(['hello', 'hi', 'welcome'])"
   ]
  },
  {
   "cell_type": "code",
   "execution_count": 59,
   "id": "e6513805",
   "metadata": {},
   "outputs": [
    {
     "ename": "ValueError",
     "evalue": "When changing to a larger dtype, its size must be a divisor of the total size in bytes of the last axis of the array.",
     "output_type": "error",
     "traceback": [
      "\u001b[1;31m---------------------------------------------------------------------------\u001b[0m",
      "\u001b[1;31mValueError\u001b[0m                                Traceback (most recent call last)",
      "\u001b[1;32mC:\\Users\\PANKAJ~1\\AppData\\Local\\Temp/ipykernel_2020/1191843409.py\u001b[0m in \u001b[0;36m<module>\u001b[1;34m\u001b[0m\n\u001b[1;32m----> 1\u001b[1;33m \u001b[0ma1\u001b[0m\u001b[1;33m.\u001b[0m\u001b[0mdtype\u001b[0m \u001b[1;33m=\u001b[0m \u001b[0mnp\u001b[0m\u001b[1;33m.\u001b[0m\u001b[0mint64\u001b[0m\u001b[1;33m\u001b[0m\u001b[1;33m\u001b[0m\u001b[0m\n\u001b[0m",
      "\u001b[1;31mValueError\u001b[0m: When changing to a larger dtype, its size must be a divisor of the total size in bytes of the last axis of the array."
     ]
    }
   ],
   "source": [
    "a1.dtype = np.int64"
   ]
  },
  {
   "cell_type": "code",
   "execution_count": 65,
   "id": "1467de8d",
   "metadata": {},
   "outputs": [],
   "source": [
    "b = np.array([1, 2, 45.6, 56.7])"
   ]
  },
  {
   "cell_type": "code",
   "execution_count": 66,
   "id": "be1f9857",
   "metadata": {},
   "outputs": [
    {
     "data": {
      "text/plain": [
       "dtype('float64')"
      ]
     },
     "execution_count": 66,
     "metadata": {},
     "output_type": "execute_result"
    }
   ],
   "source": [
    "b.dtype"
   ]
  },
  {
   "cell_type": "code",
   "execution_count": 67,
   "id": "5ecaa28e",
   "metadata": {},
   "outputs": [],
   "source": [
    "b.dtype = np.float32"
   ]
  },
  {
   "cell_type": "code",
   "execution_count": 69,
   "id": "ac5498d2",
   "metadata": {},
   "outputs": [
    {
     "data": {
      "text/plain": [
       "array([ 0.00000000e+00,  1.87500000e+00,  0.00000000e+00,  2.00000000e+00,\n",
       "       -1.07374184e+08,  3.10624981e+00, -1.58818684e-23,  3.19296861e+00],\n",
       "      dtype=float32)"
      ]
     },
     "execution_count": 69,
     "metadata": {},
     "output_type": "execute_result"
    }
   ],
   "source": [
    "b #loss of data"
   ]
  },
  {
   "cell_type": "code",
   "execution_count": 70,
   "id": "85cec9cc",
   "metadata": {},
   "outputs": [
    {
     "name": "stderr",
     "output_type": "stream",
     "text": [
      "C:\\Users\\PANKAJ~1\\AppData\\Local\\Temp/ipykernel_2020/2135545475.py:1: VisibleDeprecationWarning: Creating an ndarray from ragged nested sequences (which is a list-or-tuple of lists-or-tuples-or ndarrays with different lengths or shapes) is deprecated. If you meant to do this, you must specify 'dtype=object' when creating the ndarray.\n",
      "  b = np.array([\n"
     ]
    }
   ],
   "source": [
    "b = np.array([\n",
    "    [1, 2, 3, 4],\n",
    "    [2, 3, 4],\n",
    "    [4, 5]\n",
    "])"
   ]
  },
  {
   "cell_type": "code",
   "execution_count": 71,
   "id": "e02a2835",
   "metadata": {},
   "outputs": [
    {
     "data": {
      "text/plain": [
       "array([list([1, 2, 3, 4]), list([2, 3, 4]), list([4, 5])], dtype=object)"
      ]
     },
     "execution_count": 71,
     "metadata": {},
     "output_type": "execute_result"
    }
   ],
   "source": [
    "b"
   ]
  },
  {
   "cell_type": "markdown",
   "id": "fb8bf7dc",
   "metadata": {},
   "source": [
    "### 3 D Array\n",
    "\n",
    "    collections of 2D Array"
   ]
  },
  {
   "cell_type": "code",
   "execution_count": 73,
   "id": "3d273708",
   "metadata": {},
   "outputs": [],
   "source": [
    "a3 = np.array([\n",
    "    [\n",
    "        [1, 2],\n",
    "        [5, 6],\n",
    "        [4, 5]\n",
    "    ],\n",
    "    [\n",
    "        [10, 2],\n",
    "        [15, 6],\n",
    "        [14, 5]\n",
    "    ]\n",
    "])"
   ]
  },
  {
   "cell_type": "code",
   "execution_count": 74,
   "id": "a569b774",
   "metadata": {},
   "outputs": [
    {
     "data": {
      "text/plain": [
       "array([[[ 1,  2],\n",
       "        [ 5,  6],\n",
       "        [ 4,  5]],\n",
       "\n",
       "       [[10,  2],\n",
       "        [15,  6],\n",
       "        [14,  5]]])"
      ]
     },
     "execution_count": 74,
     "metadata": {},
     "output_type": "execute_result"
    }
   ],
   "source": [
    "a3"
   ]
  },
  {
   "cell_type": "code",
   "execution_count": 75,
   "id": "95ce83e4",
   "metadata": {},
   "outputs": [
    {
     "name": "stdout",
     "output_type": "stream",
     "text": [
      "\n",
      " Dimension -->  3\n",
      "\n",
      " Size -->  12\n",
      "\n",
      " Shape -->  (2, 3, 2)\n"
     ]
    }
   ],
   "source": [
    "print(\"\\n Dimension --> \", a3.ndim)\n",
    "print(\"\\n Size --> \", a3.size)\n",
    "print(\"\\n Shape --> \", a3.shape)"
   ]
  },
  {
   "cell_type": "code",
   "execution_count": 76,
   "id": "914b8c33",
   "metadata": {},
   "outputs": [
    {
     "data": {
      "text/plain": [
       "array([[1, 2],\n",
       "       [5, 6],\n",
       "       [4, 5]])"
      ]
     },
     "execution_count": 76,
     "metadata": {},
     "output_type": "execute_result"
    }
   ],
   "source": [
    "a3[0]"
   ]
  },
  {
   "cell_type": "code",
   "execution_count": 77,
   "id": "5c5f9c6b",
   "metadata": {},
   "outputs": [
    {
     "data": {
      "text/plain": [
       "dtype('int32')"
      ]
     },
     "execution_count": 77,
     "metadata": {},
     "output_type": "execute_result"
    }
   ],
   "source": [
    "a3.dtype"
   ]
  },
  {
   "cell_type": "code",
   "execution_count": 78,
   "id": "eda707e6",
   "metadata": {},
   "outputs": [
    {
     "data": {
      "text/plain": [
       "array([[10,  2],\n",
       "       [15,  6],\n",
       "       [14,  5]])"
      ]
     },
     "execution_count": 78,
     "metadata": {},
     "output_type": "execute_result"
    }
   ],
   "source": [
    "a3[1]"
   ]
  },
  {
   "cell_type": "code",
   "execution_count": 79,
   "id": "dd06383f",
   "metadata": {},
   "outputs": [
    {
     "data": {
      "text/plain": [
       "6"
      ]
     },
     "execution_count": 79,
     "metadata": {},
     "output_type": "execute_result"
    }
   ],
   "source": [
    "a3[1][1][1]"
   ]
  },
  {
   "cell_type": "code",
   "execution_count": 80,
   "id": "ed797cf7",
   "metadata": {},
   "outputs": [
    {
     "data": {
      "text/plain": [
       "6"
      ]
     },
     "execution_count": 80,
     "metadata": {},
     "output_type": "execute_result"
    }
   ],
   "source": [
    "a3[1,1,1]"
   ]
  },
  {
   "cell_type": "code",
   "execution_count": 81,
   "id": "c4d51040",
   "metadata": {},
   "outputs": [
    {
     "data": {
      "text/plain": [
       "array([[5, 6, 4, 2, 2],\n",
       "       [3, 2, 2, 8, 5],\n",
       "       [6, 4, 4, 9, 6],\n",
       "       [9, 6, 6, 6, 5],\n",
       "       [6, 3, 9, 5, 6]])"
      ]
     },
     "execution_count": 81,
     "metadata": {},
     "output_type": "execute_result"
    }
   ],
   "source": [
    "arr2"
   ]
  },
  {
   "cell_type": "code",
   "execution_count": 82,
   "id": "bea9154d",
   "metadata": {},
   "outputs": [
    {
     "data": {
      "text/plain": [
       "array([2, 4, 3])"
      ]
     },
     "execution_count": 82,
     "metadata": {},
     "output_type": "execute_result"
    }
   ],
   "source": [
    "arr2[[1,2,4],1]"
   ]
  },
  {
   "cell_type": "code",
   "execution_count": 83,
   "id": "9049efe3",
   "metadata": {},
   "outputs": [
    {
     "data": {
      "text/plain": [
       "array([[3, 2, 2, 8, 5],\n",
       "       [6, 4, 4, 9, 6],\n",
       "       [6, 3, 9, 5, 6]])"
      ]
     },
     "execution_count": 83,
     "metadata": {},
     "output_type": "execute_result"
    }
   ],
   "source": [
    "arr2[[1, 2, 4]]"
   ]
  },
  {
   "cell_type": "code",
   "execution_count": 84,
   "id": "d496b5b5",
   "metadata": {},
   "outputs": [
    {
     "data": {
      "text/plain": [
       "array([[6, 3, 9, 5, 6],\n",
       "       [9, 6, 6, 6, 5],\n",
       "       [6, 4, 4, 9, 6],\n",
       "       [3, 2, 2, 8, 5],\n",
       "       [5, 6, 4, 2, 2]])"
      ]
     },
     "execution_count": 84,
     "metadata": {},
     "output_type": "execute_result"
    }
   ],
   "source": [
    "arr2[::-1]"
   ]
  },
  {
   "cell_type": "code",
   "execution_count": 85,
   "id": "fc97203b",
   "metadata": {},
   "outputs": [
    {
     "data": {
      "text/plain": [
       "array([2, 4, 5])"
      ]
     },
     "execution_count": 85,
     "metadata": {},
     "output_type": "execute_result"
    }
   ],
   "source": [
    "arr2[[1,2,4],[1,2,3]]"
   ]
  },
  {
   "cell_type": "code",
   "execution_count": null,
   "id": "896e36ea",
   "metadata": {},
   "outputs": [],
   "source": []
  },
  {
   "cell_type": "code",
   "execution_count": 3,
   "id": "c4fab187",
   "metadata": {},
   "outputs": [],
   "source": [
    "a1 = np.random.randint(1, 10, (2, 5, 5))"
   ]
  },
  {
   "cell_type": "code",
   "execution_count": 4,
   "id": "c0515ea1",
   "metadata": {},
   "outputs": [
    {
     "data": {
      "text/plain": [
       "array([[[9, 4, 2, 5, 6],\n",
       "        [5, 7, 3, 6, 8],\n",
       "        [5, 2, 4, 5, 3],\n",
       "        [8, 8, 1, 7, 7],\n",
       "        [9, 4, 4, 1, 6]],\n",
       "\n",
       "       [[2, 5, 3, 6, 7],\n",
       "        [1, 7, 7, 5, 3],\n",
       "        [2, 2, 8, 3, 1],\n",
       "        [2, 1, 3, 9, 4],\n",
       "        [8, 5, 6, 3, 4]]])"
      ]
     },
     "execution_count": 4,
     "metadata": {},
     "output_type": "execute_result"
    }
   ],
   "source": [
    "a1"
   ]
  },
  {
   "cell_type": "code",
   "execution_count": 5,
   "id": "53708e97",
   "metadata": {},
   "outputs": [
    {
     "data": {
      "text/plain": [
       "array([8, 4])"
      ]
     },
     "execution_count": 5,
     "metadata": {},
     "output_type": "execute_result"
    }
   ],
   "source": [
    "a1[::-1, 2, 2]\n",
    "# a1[no_of_2d, row, col]"
   ]
  },
  {
   "cell_type": "code",
   "execution_count": 6,
   "id": "0acbb309",
   "metadata": {},
   "outputs": [
    {
     "data": {
      "text/plain": [
       "8"
      ]
     },
     "execution_count": 6,
     "metadata": {},
     "output_type": "execute_result"
    }
   ],
   "source": [
    "a1[1,2,2]"
   ]
  },
  {
   "cell_type": "code",
   "execution_count": 7,
   "id": "b1079a11",
   "metadata": {},
   "outputs": [
    {
     "data": {
      "text/plain": [
       "array([[[9, 4, 2, 5, 6],\n",
       "        [5, 7, 3, 6, 8],\n",
       "        [5, 2, 4, 5, 3],\n",
       "        [8, 8, 1, 7, 7],\n",
       "        [9, 4, 4, 1, 6]],\n",
       "\n",
       "       [[2, 5, 3, 6, 7],\n",
       "        [1, 7, 7, 5, 3],\n",
       "        [2, 2, 8, 3, 1],\n",
       "        [2, 1, 3, 9, 4],\n",
       "        [8, 5, 6, 3, 4]]])"
      ]
     },
     "execution_count": 7,
     "metadata": {},
     "output_type": "execute_result"
    }
   ],
   "source": [
    "a1"
   ]
  },
  {
   "cell_type": "code",
   "execution_count": 8,
   "id": "a369e5bb",
   "metadata": {},
   "outputs": [
    {
     "data": {
      "text/plain": [
       "array([[[4, 3, 2],\n",
       "        [1, 8, 2],\n",
       "        [3, 7, 1]],\n",
       "\n",
       "       [[7, 1, 8],\n",
       "        [3, 4, 5],\n",
       "        [8, 3, 5]]])"
      ]
     },
     "execution_count": 8,
     "metadata": {},
     "output_type": "execute_result"
    }
   ],
   "source": [
    "a1[::-1, -2:-5:-1, -1::-2]"
   ]
  },
  {
   "cell_type": "code",
   "execution_count": 9,
   "id": "f300cef4",
   "metadata": {},
   "outputs": [
    {
     "data": {
      "text/plain": [
       "array([], shape=(2, 0, 1), dtype=int32)"
      ]
     },
     "execution_count": 9,
     "metadata": {},
     "output_type": "execute_result"
    }
   ],
   "source": [
    "a1[::-1, 1:4:-1, 1::-2]"
   ]
  },
  {
   "cell_type": "code",
   "execution_count": 10,
   "id": "2e39f43e",
   "metadata": {},
   "outputs": [
    {
     "data": {
      "text/plain": [
       "array([[9, 4, 2, 5, 6],\n",
       "       [5, 7, 3, 6, 8],\n",
       "       [5, 2, 4, 5, 3],\n",
       "       [8, 8, 1, 7, 7],\n",
       "       [9, 4, 4, 1, 6]])"
      ]
     },
     "execution_count": 10,
     "metadata": {},
     "output_type": "execute_result"
    }
   ],
   "source": [
    "a1[0]"
   ]
  },
  {
   "cell_type": "code",
   "execution_count": 11,
   "id": "d1a37735",
   "metadata": {},
   "outputs": [
    {
     "data": {
      "text/plain": [
       "array([[2, 5, 3, 6, 7],\n",
       "       [1, 7, 7, 5, 3],\n",
       "       [2, 2, 8, 3, 1],\n",
       "       [2, 1, 3, 9, 4],\n",
       "       [8, 5, 6, 3, 4]])"
      ]
     },
     "execution_count": 11,
     "metadata": {},
     "output_type": "execute_result"
    }
   ],
   "source": [
    "a1[1]"
   ]
  },
  {
   "cell_type": "markdown",
   "id": "4b1e5ff9",
   "metadata": {},
   "source": [
    "<h2 style = \"color:blue\">Operations</h2>"
   ]
  },
  {
   "cell_type": "code",
   "execution_count": 13,
   "id": "75f668b7",
   "metadata": {},
   "outputs": [],
   "source": [
    "maths = np.random.randint(10, 101, 10)\n",
    "sci = np.random.randint(10, 101, 10)\n",
    "eng = np.random.randint(10, 101, 10)"
   ]
  },
  {
   "cell_type": "code",
   "execution_count": 14,
   "id": "a3d5bf59",
   "metadata": {},
   "outputs": [
    {
     "data": {
      "text/plain": [
       "array([ 43,  59,  67,  78,  77,  33,  23,  89,  31, 105])"
      ]
     },
     "execution_count": 14,
     "metadata": {},
     "output_type": "execute_result"
    }
   ],
   "source": [
    "maths+10"
   ]
  },
  {
   "cell_type": "code",
   "execution_count": 15,
   "id": "8b45c090",
   "metadata": {},
   "outputs": [
    {
     "data": {
      "text/plain": [
       "array([33, 49, 57, 68, 67, 23, 13, 79, 21, 95])"
      ]
     },
     "execution_count": 15,
     "metadata": {},
     "output_type": "execute_result"
    }
   ],
   "source": [
    "maths"
   ]
  },
  {
   "cell_type": "code",
   "execution_count": 16,
   "id": "044ba17e",
   "metadata": {},
   "outputs": [
    {
     "data": {
      "text/plain": [
       "array([23, 39, 47, 58, 57, 13,  3, 69, 11, 85])"
      ]
     },
     "execution_count": 16,
     "metadata": {},
     "output_type": "execute_result"
    }
   ],
   "source": [
    "maths-10"
   ]
  },
  {
   "cell_type": "code",
   "execution_count": 17,
   "id": "fc5c92fd",
   "metadata": {},
   "outputs": [
    {
     "ename": "ValueError",
     "evalue": "operands could not be broadcast together with shapes (10,) (2,) ",
     "output_type": "error",
     "traceback": [
      "\u001b[1;31m---------------------------------------------------------------------------\u001b[0m",
      "\u001b[1;31mValueError\u001b[0m                                Traceback (most recent call last)",
      "\u001b[1;32mC:\\Users\\PANKAJ~1\\AppData\\Local\\Temp/ipykernel_12516/2893751460.py\u001b[0m in \u001b[0;36m<module>\u001b[1;34m\u001b[0m\n\u001b[1;32m----> 1\u001b[1;33m \u001b[0mmaths\u001b[0m\u001b[1;33m+\u001b[0m\u001b[1;33m[\u001b[0m\u001b[1;36m10\u001b[0m\u001b[1;33m,\u001b[0m\u001b[1;36m20\u001b[0m\u001b[1;33m]\u001b[0m\u001b[1;33m\u001b[0m\u001b[1;33m\u001b[0m\u001b[0m\n\u001b[0m",
      "\u001b[1;31mValueError\u001b[0m: operands could not be broadcast together with shapes (10,) (2,) "
     ]
    }
   ],
   "source": [
    "maths+[10,20]"
   ]
  },
  {
   "cell_type": "code",
   "execution_count": 18,
   "id": "98236283",
   "metadata": {},
   "outputs": [
    {
     "data": {
      "text/plain": [
       "array([33, 49, 57, 68, 67, 23, 13, 79, 21, 95])"
      ]
     },
     "execution_count": 18,
     "metadata": {},
     "output_type": "execute_result"
    }
   ],
   "source": [
    "maths"
   ]
  },
  {
   "cell_type": "code",
   "execution_count": 19,
   "id": "78aff224",
   "metadata": {},
   "outputs": [
    {
     "data": {
      "text/plain": [
       "array([53, 73, 25, 52, 96, 84, 51, 53, 64, 74])"
      ]
     },
     "execution_count": 19,
     "metadata": {},
     "output_type": "execute_result"
    }
   ],
   "source": [
    "eng"
   ]
  },
  {
   "cell_type": "code",
   "execution_count": 20,
   "id": "87693035",
   "metadata": {},
   "outputs": [
    {
     "data": {
      "text/plain": [
       "array([ 86, 122,  82, 120, 163, 107,  64, 132,  85, 169])"
      ]
     },
     "execution_count": 20,
     "metadata": {},
     "output_type": "execute_result"
    }
   ],
   "source": [
    "maths+eng"
   ]
  },
  {
   "cell_type": "code",
   "execution_count": 21,
   "id": "c304561b",
   "metadata": {},
   "outputs": [
    {
     "data": {
      "text/plain": [
       "array([35.  , 57.67, 50.33, 71.  , 60.33, 40.67, 28.  , 54.33, 38.33,\n",
       "       69.67])"
      ]
     },
     "execution_count": 21,
     "metadata": {},
     "output_type": "execute_result"
    }
   ],
   "source": [
    "((maths + eng + sci)/3).round(2)"
   ]
  },
  {
   "cell_type": "code",
   "execution_count": 22,
   "id": "a12b186c",
   "metadata": {},
   "outputs": [
    {
     "ename": "TypeError",
     "evalue": "type numpy.ndarray doesn't define __round__ method",
     "output_type": "error",
     "traceback": [
      "\u001b[1;31m---------------------------------------------------------------------------\u001b[0m",
      "\u001b[1;31mTypeError\u001b[0m                                 Traceback (most recent call last)",
      "\u001b[1;32mC:\\Users\\PANKAJ~1\\AppData\\Local\\Temp/ipykernel_12516/2438732915.py\u001b[0m in \u001b[0;36m<module>\u001b[1;34m\u001b[0m\n\u001b[1;32m----> 1\u001b[1;33m \u001b[0mround\u001b[0m\u001b[1;33m(\u001b[0m\u001b[1;33m(\u001b[0m\u001b[0mmaths\u001b[0m \u001b[1;33m+\u001b[0m \u001b[0meng\u001b[0m \u001b[1;33m+\u001b[0m \u001b[0msci\u001b[0m\u001b[1;33m)\u001b[0m\u001b[1;33m/\u001b[0m\u001b[1;36m3\u001b[0m\u001b[1;33m,\u001b[0m \u001b[1;36m2\u001b[0m\u001b[1;33m)\u001b[0m\u001b[1;33m\u001b[0m\u001b[1;33m\u001b[0m\u001b[0m\n\u001b[0m",
      "\u001b[1;31mTypeError\u001b[0m: type numpy.ndarray doesn't define __round__ method"
     ]
    }
   ],
   "source": [
    "round((maths + eng + sci)/3, 2)"
   ]
  },
  {
   "cell_type": "code",
   "execution_count": 23,
   "id": "e8057028",
   "metadata": {},
   "outputs": [
    {
     "data": {
      "text/plain": [
       "array([16, 24, 28, 34, 33, 11,  6, 39, 10, 47], dtype=int32)"
      ]
     },
     "execution_count": 23,
     "metadata": {},
     "output_type": "execute_result"
    }
   ],
   "source": [
    "maths//2"
   ]
  },
  {
   "cell_type": "code",
   "execution_count": 24,
   "id": "9622a644",
   "metadata": {},
   "outputs": [
    {
     "data": {
      "text/plain": [
       "array([1089, 2401, 3249, 4624, 4489,  529,  169, 6241,  441, 9025],\n",
       "      dtype=int32)"
      ]
     },
     "execution_count": 24,
     "metadata": {},
     "output_type": "execute_result"
    }
   ],
   "source": [
    "maths**2"
   ]
  },
  {
   "cell_type": "code",
   "execution_count": null,
   "id": "43c9f45a",
   "metadata": {},
   "outputs": [],
   "source": []
  },
  {
   "cell_type": "code",
   "execution_count": null,
   "id": "34ee2e1c",
   "metadata": {},
   "outputs": [],
   "source": []
  },
  {
   "cell_type": "code",
   "execution_count": 31,
   "id": "efdfc590",
   "metadata": {},
   "outputs": [],
   "source": [
    "arr3 = np.random.randint(1, 10, (2, 2, 2))"
   ]
  },
  {
   "cell_type": "code",
   "execution_count": 33,
   "id": "0863b2c4",
   "metadata": {},
   "outputs": [
    {
     "data": {
      "text/plain": [
       "array([[[3, 2],\n",
       "        [2, 5]],\n",
       "\n",
       "       [[3, 1],\n",
       "        [1, 7]]])"
      ]
     },
     "execution_count": 33,
     "metadata": {},
     "output_type": "execute_result"
    }
   ],
   "source": [
    "arr3"
   ]
  },
  {
   "cell_type": "code",
   "execution_count": 32,
   "id": "9ecfc7b5",
   "metadata": {},
   "outputs": [
    {
     "data": {
      "text/plain": [
       "array([[[ 6,  4],\n",
       "        [ 4, 10]],\n",
       "\n",
       "       [[ 6,  2],\n",
       "        [ 2, 14]]])"
      ]
     },
     "execution_count": 32,
     "metadata": {},
     "output_type": "execute_result"
    }
   ],
   "source": [
    "arr3*2"
   ]
  },
  {
   "cell_type": "code",
   "execution_count": 34,
   "id": "46b2ba48",
   "metadata": {},
   "outputs": [
    {
     "data": {
      "text/plain": [
       "array([[[11,  9],\n",
       "        [ 9, 15]],\n",
       "\n",
       "       [[11,  7],\n",
       "        [ 7, 19]]])"
      ]
     },
     "execution_count": 34,
     "metadata": {},
     "output_type": "execute_result"
    }
   ],
   "source": [
    "arr3*2+5"
   ]
  },
  {
   "cell_type": "code",
   "execution_count": 35,
   "id": "c20cbadd",
   "metadata": {},
   "outputs": [],
   "source": [
    "a1 = np.random.randint(10, 20, 10)\n",
    "a2 = np.random.randint(10, 20, 10)"
   ]
  },
  {
   "cell_type": "code",
   "execution_count": 36,
   "id": "5e5004e5",
   "metadata": {},
   "outputs": [
    {
     "data": {
      "text/plain": [
       "array([14, 11, 19, 10, 14, 11, 12, 14, 12, 14])"
      ]
     },
     "execution_count": 36,
     "metadata": {},
     "output_type": "execute_result"
    }
   ],
   "source": [
    "a1"
   ]
  },
  {
   "cell_type": "code",
   "execution_count": 37,
   "id": "ee7d54f4",
   "metadata": {},
   "outputs": [
    {
     "data": {
      "text/plain": [
       "array([11, 18, 17, 14, 13, 16, 17, 17, 11, 15])"
      ]
     },
     "execution_count": 37,
     "metadata": {},
     "output_type": "execute_result"
    }
   ],
   "source": [
    "a2"
   ]
  },
  {
   "cell_type": "code",
   "execution_count": 41,
   "id": "de63cc3a",
   "metadata": {},
   "outputs": [],
   "source": [
    "a1=a1.reshape(5,2)"
   ]
  },
  {
   "cell_type": "code",
   "execution_count": 42,
   "id": "4a802b39",
   "metadata": {},
   "outputs": [],
   "source": [
    "a2=a2.reshape(5,2)"
   ]
  },
  {
   "cell_type": "code",
   "execution_count": 43,
   "id": "2736bea0",
   "metadata": {},
   "outputs": [
    {
     "data": {
      "text/plain": [
       "array([[14, 11],\n",
       "       [19, 10],\n",
       "       [14, 11],\n",
       "       [12, 14],\n",
       "       [12, 14]])"
      ]
     },
     "execution_count": 43,
     "metadata": {},
     "output_type": "execute_result"
    }
   ],
   "source": [
    "a1"
   ]
  },
  {
   "cell_type": "code",
   "execution_count": 44,
   "id": "1ab92380",
   "metadata": {},
   "outputs": [
    {
     "data": {
      "text/plain": [
       "array([[11, 18],\n",
       "       [17, 14],\n",
       "       [13, 16],\n",
       "       [17, 17],\n",
       "       [11, 15]])"
      ]
     },
     "execution_count": 44,
     "metadata": {},
     "output_type": "execute_result"
    }
   ],
   "source": [
    "a2"
   ]
  },
  {
   "cell_type": "code",
   "execution_count": 45,
   "id": "af002d93",
   "metadata": {},
   "outputs": [
    {
     "data": {
      "text/plain": [
       "array([[25, 29],\n",
       "       [36, 24],\n",
       "       [27, 27],\n",
       "       [29, 31],\n",
       "       [23, 29]])"
      ]
     },
     "execution_count": 45,
     "metadata": {},
     "output_type": "execute_result"
    }
   ],
   "source": [
    "a1+a2"
   ]
  },
  {
   "cell_type": "code",
   "execution_count": 46,
   "id": "56687983",
   "metadata": {},
   "outputs": [
    {
     "ename": "ValueError",
     "evalue": "operands could not be broadcast together with shapes (2,5) (5,2) ",
     "output_type": "error",
     "traceback": [
      "\u001b[1;31m---------------------------------------------------------------------------\u001b[0m",
      "\u001b[1;31mValueError\u001b[0m                                Traceback (most recent call last)",
      "\u001b[1;32mC:\\Users\\PANKAJ~1\\AppData\\Local\\Temp/ipykernel_12516/3523404185.py\u001b[0m in \u001b[0;36m<module>\u001b[1;34m\u001b[0m\n\u001b[1;32m----> 1\u001b[1;33m \u001b[0ma2\u001b[0m\u001b[1;33m.\u001b[0m\u001b[0mreshape\u001b[0m\u001b[1;33m(\u001b[0m\u001b[1;36m2\u001b[0m\u001b[1;33m,\u001b[0m\u001b[1;36m5\u001b[0m\u001b[1;33m)\u001b[0m \u001b[1;33m+\u001b[0m\u001b[0ma1\u001b[0m\u001b[1;33m\u001b[0m\u001b[1;33m\u001b[0m\u001b[0m\n\u001b[0m",
      "\u001b[1;31mValueError\u001b[0m: operands could not be broadcast together with shapes (2,5) (5,2) "
     ]
    }
   ],
   "source": [
    "a2.reshape(2,5) +a1"
   ]
  },
  {
   "cell_type": "code",
   "execution_count": 47,
   "id": "0779ef1f",
   "metadata": {},
   "outputs": [
    {
     "data": {
      "text/plain": [
       "array([[[3, 2],\n",
       "        [2, 5]],\n",
       "\n",
       "       [[3, 1],\n",
       "        [1, 7]]])"
      ]
     },
     "execution_count": 47,
     "metadata": {},
     "output_type": "execute_result"
    }
   ],
   "source": [
    "arr3"
   ]
  },
  {
   "cell_type": "code",
   "execution_count": 48,
   "id": "0d80e9cd",
   "metadata": {},
   "outputs": [
    {
     "data": {
      "text/plain": [
       "array([[3, 2],\n",
       "       [2, 5],\n",
       "       [3, 1],\n",
       "       [1, 7]])"
      ]
     },
     "execution_count": 48,
     "metadata": {},
     "output_type": "execute_result"
    }
   ],
   "source": [
    "arr3.reshape(4,2)"
   ]
  },
  {
   "cell_type": "code",
   "execution_count": 51,
   "id": "33da4a62",
   "metadata": {},
   "outputs": [
    {
     "data": {
      "text/plain": [
       "array([[3, 2, 2, 5, 3, 1, 1, 7]])"
      ]
     },
     "execution_count": 51,
     "metadata": {},
     "output_type": "execute_result"
    }
   ],
   "source": [
    "arr3.reshape(1,8)"
   ]
  },
  {
   "cell_type": "code",
   "execution_count": 52,
   "id": "4c584730",
   "metadata": {},
   "outputs": [
    {
     "data": {
      "text/plain": [
       "array([[3],\n",
       "       [2],\n",
       "       [2],\n",
       "       [5],\n",
       "       [3],\n",
       "       [1],\n",
       "       [1],\n",
       "       [7]])"
      ]
     },
     "execution_count": 52,
     "metadata": {},
     "output_type": "execute_result"
    }
   ],
   "source": [
    "arr3.reshape(8,1)"
   ]
  },
  {
   "cell_type": "code",
   "execution_count": 53,
   "id": "4c8368c5",
   "metadata": {},
   "outputs": [
    {
     "data": {
      "text/plain": [
       "array([[3, 2, 2, 5, 3, 1, 1, 7]])"
      ]
     },
     "execution_count": 53,
     "metadata": {},
     "output_type": "execute_result"
    }
   ],
   "source": [
    "arr3.reshape(1, -1) # 1 row "
   ]
  },
  {
   "cell_type": "code",
   "execution_count": 54,
   "id": "450db985",
   "metadata": {},
   "outputs": [
    {
     "data": {
      "text/plain": [
       "array([[11, 18],\n",
       "       [17, 14],\n",
       "       [13, 16],\n",
       "       [17, 17],\n",
       "       [11, 15]])"
      ]
     },
     "execution_count": 54,
     "metadata": {},
     "output_type": "execute_result"
    }
   ],
   "source": [
    "a2"
   ]
  },
  {
   "cell_type": "code",
   "execution_count": 55,
   "id": "cdf9e090",
   "metadata": {},
   "outputs": [
    {
     "data": {
      "text/plain": [
       "array([[[11, 18],\n",
       "        [17, 14],\n",
       "        [13, 16],\n",
       "        [17, 17],\n",
       "        [11, 15]]])"
      ]
     },
     "execution_count": 55,
     "metadata": {},
     "output_type": "execute_result"
    }
   ],
   "source": [
    "a2.reshape(1,5,2)"
   ]
  },
  {
   "cell_type": "code",
   "execution_count": 56,
   "id": "2afbe951",
   "metadata": {},
   "outputs": [
    {
     "data": {
      "text/plain": [
       "array([[[11],\n",
       "        [18],\n",
       "        [17],\n",
       "        [14],\n",
       "        [13]],\n",
       "\n",
       "       [[16],\n",
       "        [17],\n",
       "        [17],\n",
       "        [11],\n",
       "        [15]]])"
      ]
     },
     "execution_count": 56,
     "metadata": {},
     "output_type": "execute_result"
    }
   ],
   "source": [
    "a2.reshape(2, 5, 1)"
   ]
  },
  {
   "cell_type": "code",
   "execution_count": 57,
   "id": "53f9af86",
   "metadata": {},
   "outputs": [
    {
     "data": {
      "text/plain": [
       "array([[14, 11],\n",
       "       [19, 10],\n",
       "       [14, 11],\n",
       "       [12, 14],\n",
       "       [12, 14]])"
      ]
     },
     "execution_count": 57,
     "metadata": {},
     "output_type": "execute_result"
    }
   ],
   "source": [
    "a1"
   ]
  },
  {
   "cell_type": "code",
   "execution_count": 58,
   "id": "af5e5f80",
   "metadata": {},
   "outputs": [
    {
     "data": {
      "text/plain": [
       "array([[11, 18],\n",
       "       [17, 14],\n",
       "       [13, 16],\n",
       "       [17, 17],\n",
       "       [11, 15]])"
      ]
     },
     "execution_count": 58,
     "metadata": {},
     "output_type": "execute_result"
    }
   ],
   "source": [
    "a2"
   ]
  },
  {
   "cell_type": "code",
   "execution_count": 59,
   "id": "f0d1fc45",
   "metadata": {},
   "outputs": [
    {
     "data": {
      "text/plain": [
       "array([[25, 29],\n",
       "       [36, 24],\n",
       "       [27, 27],\n",
       "       [29, 31],\n",
       "       [23, 29]])"
      ]
     },
     "execution_count": 59,
     "metadata": {},
     "output_type": "execute_result"
    }
   ],
   "source": [
    "a1 + a2"
   ]
  },
  {
   "cell_type": "code",
   "execution_count": 60,
   "id": "3dd729e3",
   "metadata": {},
   "outputs": [
    {
     "data": {
      "text/plain": [
       "array([[ 3, -7],\n",
       "       [ 2, -4],\n",
       "       [ 1, -5],\n",
       "       [-5, -3],\n",
       "       [ 1, -1]])"
      ]
     },
     "execution_count": 60,
     "metadata": {},
     "output_type": "execute_result"
    }
   ],
   "source": [
    "a1 - a2"
   ]
  },
  {
   "cell_type": "code",
   "execution_count": 61,
   "id": "c107102e",
   "metadata": {},
   "outputs": [
    {
     "data": {
      "text/plain": [
       "array([[154, 198],\n",
       "       [323, 140],\n",
       "       [182, 176],\n",
       "       [204, 238],\n",
       "       [132, 210]])"
      ]
     },
     "execution_count": 61,
     "metadata": {},
     "output_type": "execute_result"
    }
   ],
   "source": [
    "a1 * a2"
   ]
  },
  {
   "cell_type": "code",
   "execution_count": 62,
   "id": "77a0c1a9",
   "metadata": {},
   "outputs": [
    {
     "data": {
      "text/plain": [
       "array([[1, 0],\n",
       "       [1, 0],\n",
       "       [1, 0],\n",
       "       [0, 0],\n",
       "       [1, 0]], dtype=int32)"
      ]
     },
     "execution_count": 62,
     "metadata": {},
     "output_type": "execute_result"
    }
   ],
   "source": [
    "a1//a2"
   ]
  },
  {
   "cell_type": "code",
   "execution_count": 63,
   "id": "30115160",
   "metadata": {},
   "outputs": [
    {
     "data": {
      "text/plain": [
       "array([[ -588990464, -1019239111],\n",
       "       [ 1046123219,   276447232],\n",
       "       [  521986048,   772479681],\n",
       "       [          0,  -586285056],\n",
       "       [  -20971520,  -769949696]], dtype=int32)"
      ]
     },
     "execution_count": 63,
     "metadata": {},
     "output_type": "execute_result"
    }
   ],
   "source": [
    "a1 ** a2"
   ]
  },
  {
   "cell_type": "markdown",
   "id": "49e4e462",
   "metadata": {},
   "source": [
    "### Matrix Multiplication \n",
    "\n",
    "    arr1 --> n1, m1\n",
    "    arr2 --> n2, m2\n",
    "    \n",
    "        m1 = n2"
   ]
  },
  {
   "cell_type": "code",
   "execution_count": 64,
   "id": "acd13384",
   "metadata": {},
   "outputs": [
    {
     "data": {
      "text/plain": [
       "(5, 2)"
      ]
     },
     "execution_count": 64,
     "metadata": {},
     "output_type": "execute_result"
    }
   ],
   "source": [
    "a1.shape"
   ]
  },
  {
   "cell_type": "code",
   "execution_count": 65,
   "id": "a8a775cb",
   "metadata": {},
   "outputs": [
    {
     "data": {
      "text/plain": [
       "(5, 2)"
      ]
     },
     "execution_count": 65,
     "metadata": {},
     "output_type": "execute_result"
    }
   ],
   "source": [
    "a2.shape"
   ]
  },
  {
   "cell_type": "code",
   "execution_count": 66,
   "id": "a2cbf0c3",
   "metadata": {},
   "outputs": [
    {
     "ename": "ValueError",
     "evalue": "matmul: Input operand 1 has a mismatch in its core dimension 0, with gufunc signature (n?,k),(k,m?)->(n?,m?) (size 5 is different from 2)",
     "output_type": "error",
     "traceback": [
      "\u001b[1;31m---------------------------------------------------------------------------\u001b[0m",
      "\u001b[1;31mValueError\u001b[0m                                Traceback (most recent call last)",
      "\u001b[1;32mC:\\Users\\PANKAJ~1\\AppData\\Local\\Temp/ipykernel_12516/2857515685.py\u001b[0m in \u001b[0;36m<module>\u001b[1;34m\u001b[0m\n\u001b[1;32m----> 1\u001b[1;33m \u001b[0ma1\u001b[0m\u001b[1;33m@\u001b[0m\u001b[0ma2\u001b[0m\u001b[1;33m\u001b[0m\u001b[1;33m\u001b[0m\u001b[0m\n\u001b[0m",
      "\u001b[1;31mValueError\u001b[0m: matmul: Input operand 1 has a mismatch in its core dimension 0, with gufunc signature (n?,k),(k,m?)->(n?,m?) (size 5 is different from 2)"
     ]
    }
   ],
   "source": [
    "a1@a2"
   ]
  },
  {
   "cell_type": "code",
   "execution_count": 67,
   "id": "643565c8",
   "metadata": {},
   "outputs": [],
   "source": [
    "a3 = a2.reshape(2,5)"
   ]
  },
  {
   "cell_type": "code",
   "execution_count": 68,
   "id": "afb84998",
   "metadata": {},
   "outputs": [
    {
     "data": {
      "text/plain": [
       "array([[11, 18, 17, 14, 13],\n",
       "       [16, 17, 17, 11, 15]])"
      ]
     },
     "execution_count": 68,
     "metadata": {},
     "output_type": "execute_result"
    }
   ],
   "source": [
    "a3"
   ]
  },
  {
   "cell_type": "code",
   "execution_count": 69,
   "id": "61824417",
   "metadata": {},
   "outputs": [
    {
     "data": {
      "text/plain": [
       "array([[1058,  866],\n",
       "       [1097,  897]])"
      ]
     },
     "execution_count": 69,
     "metadata": {},
     "output_type": "execute_result"
    }
   ],
   "source": [
    "a3@a1"
   ]
  },
  {
   "cell_type": "code",
   "execution_count": null,
   "id": "0f058f29",
   "metadata": {},
   "outputs": [],
   "source": []
  },
  {
   "cell_type": "code",
   "execution_count": null,
   "id": "135a1f17",
   "metadata": {},
   "outputs": [],
   "source": []
  },
  {
   "cell_type": "code",
   "execution_count": 70,
   "id": "9df0a972",
   "metadata": {},
   "outputs": [
    {
     "data": {
      "text/plain": [
       "array([33, 49, 57, 68, 67, 23, 13, 79, 21, 95])"
      ]
     },
     "execution_count": 70,
     "metadata": {},
     "output_type": "execute_result"
    }
   ],
   "source": [
    "maths"
   ]
  },
  {
   "cell_type": "code",
   "execution_count": 71,
   "id": "4f013bc2",
   "metadata": {},
   "outputs": [
    {
     "data": {
      "text/plain": [
       "array([False, False,  True,  True,  True, False, False,  True, False,\n",
       "        True])"
      ]
     },
     "execution_count": 71,
     "metadata": {},
     "output_type": "execute_result"
    }
   ],
   "source": [
    "maths>50"
   ]
  },
  {
   "cell_type": "code",
   "execution_count": 72,
   "id": "9d53601b",
   "metadata": {},
   "outputs": [
    {
     "data": {
      "text/plain": [
       "array([53, 73, 25, 52, 96, 84, 51, 53, 64, 74])"
      ]
     },
     "execution_count": 72,
     "metadata": {},
     "output_type": "execute_result"
    }
   ],
   "source": [
    "eng"
   ]
  },
  {
   "cell_type": "code",
   "execution_count": 73,
   "id": "491b6f32",
   "metadata": {},
   "outputs": [
    {
     "data": {
      "text/plain": [
       "array([ True,  True, False,  True,  True,  True,  True,  True,  True,\n",
       "        True])"
      ]
     },
     "execution_count": 73,
     "metadata": {},
     "output_type": "execute_result"
    }
   ],
   "source": [
    "eng > 40"
   ]
  },
  {
   "cell_type": "code",
   "execution_count": 74,
   "id": "dc096e14",
   "metadata": {},
   "outputs": [
    {
     "data": {
      "text/plain": [
       "array([False, False, False,  True, False, False, False, False, False,\n",
       "       False])"
      ]
     },
     "execution_count": 74,
     "metadata": {},
     "output_type": "execute_result"
    }
   ],
   "source": [
    "sci > 70"
   ]
  },
  {
   "cell_type": "code",
   "execution_count": 75,
   "id": "6dea839d",
   "metadata": {},
   "outputs": [
    {
     "data": {
      "text/plain": [
       "array([False, False, False,  True, False, False, False, False, False,\n",
       "       False])"
      ]
     },
     "execution_count": 75,
     "metadata": {},
     "output_type": "execute_result"
    }
   ],
   "source": [
    "sci >= 70"
   ]
  },
  {
   "cell_type": "code",
   "execution_count": 76,
   "id": "9bf16148",
   "metadata": {},
   "outputs": [
    {
     "data": {
      "text/plain": [
       "array([ True, False, False, False,  True,  True, False,  True, False,\n",
       "        True])"
      ]
     },
     "execution_count": 76,
     "metadata": {},
     "output_type": "execute_result"
    }
   ],
   "source": [
    "maths > sci"
   ]
  },
  {
   "cell_type": "code",
   "execution_count": 78,
   "id": "dbc1d781",
   "metadata": {},
   "outputs": [
    {
     "ename": "ValueError",
     "evalue": "The truth value of an array with more than one element is ambiguous. Use a.any() or a.all()",
     "output_type": "error",
     "traceback": [
      "\u001b[1;31m---------------------------------------------------------------------------\u001b[0m",
      "\u001b[1;31mValueError\u001b[0m                                Traceback (most recent call last)",
      "\u001b[1;32mC:\\Users\\PANKAJ~1\\AppData\\Local\\Temp/ipykernel_12516/3988915092.py\u001b[0m in \u001b[0;36m<module>\u001b[1;34m\u001b[0m\n\u001b[1;32m----> 1\u001b[1;33m \u001b[1;33m(\u001b[0m\u001b[0mmaths\u001b[0m \u001b[1;33m>\u001b[0m\u001b[1;36m50\u001b[0m\u001b[1;33m)\u001b[0m \u001b[1;32mand\u001b[0m \u001b[1;33m(\u001b[0m\u001b[0msci\u001b[0m\u001b[1;33m>\u001b[0m\u001b[1;36m50\u001b[0m\u001b[1;33m)\u001b[0m\u001b[1;33m\u001b[0m\u001b[1;33m\u001b[0m\u001b[0m\n\u001b[0m",
      "\u001b[1;31mValueError\u001b[0m: The truth value of an array with more than one element is ambiguous. Use a.any() or a.all()"
     ]
    }
   ],
   "source": [
    "(maths >50) and (sci>50)"
   ]
  },
  {
   "cell_type": "code",
   "execution_count": 79,
   "id": "01b59b7a",
   "metadata": {},
   "outputs": [
    {
     "data": {
      "text/plain": [
       "array([False, False,  True,  True, False, False, False, False, False,\n",
       "       False])"
      ]
     },
     "execution_count": 79,
     "metadata": {},
     "output_type": "execute_result"
    }
   ],
   "source": [
    "(maths >50) & (sci>50)"
   ]
  },
  {
   "cell_type": "code",
   "execution_count": 80,
   "id": "00da8eee",
   "metadata": {},
   "outputs": [],
   "source": [
    "names = np.array(list('ABCDEFGHIJ'))"
   ]
  },
  {
   "cell_type": "code",
   "execution_count": 81,
   "id": "fb24a4ae",
   "metadata": {},
   "outputs": [
    {
     "data": {
      "text/plain": [
       "10"
      ]
     },
     "execution_count": 81,
     "metadata": {},
     "output_type": "execute_result"
    }
   ],
   "source": [
    "len(names)"
   ]
  },
  {
   "cell_type": "code",
   "execution_count": 82,
   "id": "c5a1d76a",
   "metadata": {},
   "outputs": [
    {
     "data": {
      "text/plain": [
       "array(['A', 'B', 'C', 'D', 'E', 'F', 'G', 'H', 'I', 'J'], dtype='<U1')"
      ]
     },
     "execution_count": 82,
     "metadata": {},
     "output_type": "execute_result"
    }
   ],
   "source": [
    "names"
   ]
  },
  {
   "cell_type": "code",
   "execution_count": 83,
   "id": "ef0fe2f7",
   "metadata": {},
   "outputs": [
    {
     "data": {
      "text/plain": [
       "array([False, False,  True,  True, False, False, False, False, False,\n",
       "       False])"
      ]
     },
     "execution_count": 83,
     "metadata": {},
     "output_type": "execute_result"
    }
   ],
   "source": [
    "(maths>50) & (sci>50)"
   ]
  },
  {
   "cell_type": "code",
   "execution_count": 84,
   "id": "e79cfccd",
   "metadata": {},
   "outputs": [
    {
     "data": {
      "text/plain": [
       "array(['C', 'D'], dtype='<U1')"
      ]
     },
     "execution_count": 84,
     "metadata": {},
     "output_type": "execute_result"
    }
   ],
   "source": [
    "names[(maths>50) & (sci>50)]"
   ]
  },
  {
   "cell_type": "code",
   "execution_count": 85,
   "id": "326cd188",
   "metadata": {},
   "outputs": [
    {
     "ename": "IndexError",
     "evalue": "boolean index did not match indexed array along dimension 0; dimension is 10 but corresponding boolean dimension is 5",
     "output_type": "error",
     "traceback": [
      "\u001b[1;31m---------------------------------------------------------------------------\u001b[0m",
      "\u001b[1;31mIndexError\u001b[0m                                Traceback (most recent call last)",
      "\u001b[1;32mC:\\Users\\PANKAJ~1\\AppData\\Local\\Temp/ipykernel_12516/2606143323.py\u001b[0m in \u001b[0;36m<module>\u001b[1;34m\u001b[0m\n\u001b[1;32m----> 1\u001b[1;33m \u001b[0mnames\u001b[0m\u001b[1;33m[\u001b[0m\u001b[0msci\u001b[0m\u001b[1;33m[\u001b[0m\u001b[0mmaths\u001b[0m\u001b[1;33m>\u001b[0m\u001b[1;36m50\u001b[0m\u001b[1;33m]\u001b[0m\u001b[1;33m>\u001b[0m\u001b[1;36m50\u001b[0m\u001b[1;33m]\u001b[0m\u001b[1;33m\u001b[0m\u001b[1;33m\u001b[0m\u001b[0m\n\u001b[0m",
      "\u001b[1;31mIndexError\u001b[0m: boolean index did not match indexed array along dimension 0; dimension is 10 but corresponding boolean dimension is 5"
     ]
    }
   ],
   "source": [
    "names[sci[maths>50]>50]"
   ]
  },
  {
   "cell_type": "markdown",
   "id": "39286663",
   "metadata": {},
   "source": [
    "**names and per of students having maths marks >70 and (eng>60 or sci>70)**\n",
    "    "
   ]
  },
  {
   "cell_type": "code",
   "execution_count": 86,
   "id": "d9e9da81",
   "metadata": {},
   "outputs": [
    {
     "data": {
      "text/plain": [
       "array(['J'], dtype='<U1')"
      ]
     },
     "execution_count": 86,
     "metadata": {},
     "output_type": "execute_result"
    }
   ],
   "source": [
    "names[(maths > 70) & ((eng>60) | (sci>70))]"
   ]
  },
  {
   "cell_type": "code",
   "execution_count": 87,
   "id": "c8d4d9dc",
   "metadata": {},
   "outputs": [
    {
     "data": {
      "text/plain": [
       "array([35.        , 57.66666667, 50.33333333, 71.        , 60.33333333,\n",
       "       40.66666667, 28.        , 54.33333333, 38.33333333, 69.66666667])"
      ]
     },
     "execution_count": 87,
     "metadata": {},
     "output_type": "execute_result"
    }
   ],
   "source": [
    "per = (maths + sci + eng)/3\n",
    "per"
   ]
  },
  {
   "cell_type": "code",
   "execution_count": 88,
   "id": "72136647",
   "metadata": {},
   "outputs": [
    {
     "data": {
      "text/plain": [
       "array([69.66666667])"
      ]
     },
     "execution_count": 88,
     "metadata": {},
     "output_type": "execute_result"
    }
   ],
   "source": [
    "per[(maths > 70) & ((eng>60) | (sci>70))]"
   ]
  },
  {
   "cell_type": "code",
   "execution_count": null,
   "id": "18c39e76",
   "metadata": {},
   "outputs": [],
   "source": []
  },
  {
   "cell_type": "code",
   "execution_count": null,
   "id": "3d5f7866",
   "metadata": {},
   "outputs": [],
   "source": []
  },
  {
   "cell_type": "code",
   "execution_count": 5,
   "id": "b51e1767",
   "metadata": {},
   "outputs": [],
   "source": [
    "arr2 = np.random.randint(10, 20, (5, 5))"
   ]
  },
  {
   "cell_type": "code",
   "execution_count": 6,
   "id": "991bbd60",
   "metadata": {},
   "outputs": [
    {
     "data": {
      "text/plain": [
       "array([14, 16, 12, 16, 14, 16, 16, 10, 12, 10, 12, 12, 16, 16, 10, 10, 12])"
      ]
     },
     "execution_count": 6,
     "metadata": {},
     "output_type": "execute_result"
    }
   ],
   "source": [
    "arr2[arr2%2 == 0]"
   ]
  },
  {
   "cell_type": "code",
   "execution_count": 7,
   "id": "a0cb3bb4",
   "metadata": {},
   "outputs": [
    {
     "data": {
      "text/plain": [
       "17"
      ]
     },
     "execution_count": 7,
     "metadata": {},
     "output_type": "execute_result"
    }
   ],
   "source": [
    "len(arr2[arr2%2 == 0])"
   ]
  },
  {
   "cell_type": "code",
   "execution_count": null,
   "id": "0278fde0",
   "metadata": {},
   "outputs": [],
   "source": []
  },
  {
   "cell_type": "code",
   "execution_count": 8,
   "id": "95b02999",
   "metadata": {},
   "outputs": [
    {
     "data": {
      "text/plain": [
       "array([0, 1, 2, 3, 4, 5, 6, 7, 8, 9])"
      ]
     },
     "execution_count": 8,
     "metadata": {},
     "output_type": "execute_result"
    }
   ],
   "source": [
    "np.arange(10)"
   ]
  },
  {
   "cell_type": "code",
   "execution_count": 9,
   "id": "276d4f61",
   "metadata": {},
   "outputs": [
    {
     "data": {
      "text/plain": [
       "array([2, 4, 6, 8])"
      ]
     },
     "execution_count": 9,
     "metadata": {},
     "output_type": "execute_result"
    }
   ],
   "source": [
    "np.arange(2,10,2)"
   ]
  },
  {
   "cell_type": "code",
   "execution_count": 10,
   "id": "95e3f37f",
   "metadata": {},
   "outputs": [
    {
     "data": {
      "text/plain": [
       "array([-1, -2, -3, -4, -5, -6, -7, -8, -9])"
      ]
     },
     "execution_count": 10,
     "metadata": {},
     "output_type": "execute_result"
    }
   ],
   "source": [
    "np.arange(-1,-10,-1)"
   ]
  },
  {
   "cell_type": "code",
   "execution_count": 11,
   "id": "122a9f6b",
   "metadata": {
    "scrolled": true
   },
   "outputs": [
    {
     "data": {
      "text/plain": [
       "array([-3, -2, -1,  0,  1,  2,  3])"
      ]
     },
     "execution_count": 11,
     "metadata": {},
     "output_type": "execute_result"
    }
   ],
   "source": [
    "np.arange(-3,4)"
   ]
  },
  {
   "cell_type": "code",
   "execution_count": null,
   "id": "c5e87815",
   "metadata": {},
   "outputs": [],
   "source": []
  },
  {
   "cell_type": "code",
   "execution_count": 12,
   "id": "f5c64507",
   "metadata": {},
   "outputs": [
    {
     "data": {
      "text/plain": [
       "array([-1.        , -0.77777778, -0.55555556, -0.33333333, -0.11111111,\n",
       "        0.11111111,  0.33333333,  0.55555556,  0.77777778,  1.        ])"
      ]
     },
     "execution_count": 12,
     "metadata": {},
     "output_type": "execute_result"
    }
   ],
   "source": [
    "np.linspace(-1,1,10)"
   ]
  },
  {
   "cell_type": "code",
   "execution_count": 13,
   "id": "40651cff",
   "metadata": {},
   "outputs": [
    {
     "data": {
      "text/plain": [
       "0.22222222000000003"
      ]
     },
     "execution_count": 13,
     "metadata": {},
     "output_type": "execute_result"
    }
   ],
   "source": [
    "-0.77777778 + 1"
   ]
  },
  {
   "cell_type": "code",
   "execution_count": 14,
   "id": "44bb342d",
   "metadata": {},
   "outputs": [
    {
     "data": {
      "text/plain": [
       "0.22222222000000003"
      ]
     },
     "execution_count": 14,
     "metadata": {},
     "output_type": "execute_result"
    }
   ],
   "source": [
    "-0.55555556 + 0.77777778"
   ]
  },
  {
   "cell_type": "code",
   "execution_count": null,
   "id": "c9080afd",
   "metadata": {},
   "outputs": [],
   "source": []
  },
  {
   "cell_type": "code",
   "execution_count": 15,
   "id": "664341c1",
   "metadata": {},
   "outputs": [
    {
     "ename": "TypeError",
     "evalue": "'tuple' object cannot be interpreted as an integer",
     "output_type": "error",
     "traceback": [
      "\u001b[1;31m---------------------------------------------------------------------------\u001b[0m",
      "\u001b[1;31mTypeError\u001b[0m                                 Traceback (most recent call last)",
      "\u001b[1;32mC:\\Users\\PANKAJ~1\\AppData\\Local\\Temp/ipykernel_1088/455021556.py\u001b[0m in \u001b[0;36m<module>\u001b[1;34m\u001b[0m\n\u001b[1;32m----> 1\u001b[1;33m \u001b[0mnp\u001b[0m\u001b[1;33m.\u001b[0m\u001b[0mlinspace\u001b[0m\u001b[1;33m(\u001b[0m\u001b[1;33m-\u001b[0m\u001b[1;36m1\u001b[0m\u001b[1;33m,\u001b[0m \u001b[1;36m1\u001b[0m\u001b[1;33m,\u001b[0m \u001b[1;33m(\u001b[0m\u001b[1;36m5\u001b[0m\u001b[1;33m,\u001b[0m \u001b[1;36m2\u001b[0m\u001b[1;33m)\u001b[0m\u001b[1;33m)\u001b[0m\u001b[1;33m\u001b[0m\u001b[1;33m\u001b[0m\u001b[0m\n\u001b[0m",
      "\u001b[1;32m<__array_function__ internals>\u001b[0m in \u001b[0;36mlinspace\u001b[1;34m(*args, **kwargs)\u001b[0m\n",
      "\u001b[1;32mC:\\python\\python38\\lib\\site-packages\\numpy\\core\\function_base.py\u001b[0m in \u001b[0;36mlinspace\u001b[1;34m(start, stop, num, endpoint, retstep, dtype, axis)\u001b[0m\n\u001b[0;32m    118\u001b[0m \u001b[1;33m\u001b[0m\u001b[0m\n\u001b[0;32m    119\u001b[0m     \"\"\"\n\u001b[1;32m--> 120\u001b[1;33m     \u001b[0mnum\u001b[0m \u001b[1;33m=\u001b[0m \u001b[0moperator\u001b[0m\u001b[1;33m.\u001b[0m\u001b[0mindex\u001b[0m\u001b[1;33m(\u001b[0m\u001b[0mnum\u001b[0m\u001b[1;33m)\u001b[0m\u001b[1;33m\u001b[0m\u001b[1;33m\u001b[0m\u001b[0m\n\u001b[0m\u001b[0;32m    121\u001b[0m     \u001b[1;32mif\u001b[0m \u001b[0mnum\u001b[0m \u001b[1;33m<\u001b[0m \u001b[1;36m0\u001b[0m\u001b[1;33m:\u001b[0m\u001b[1;33m\u001b[0m\u001b[1;33m\u001b[0m\u001b[0m\n\u001b[0;32m    122\u001b[0m         \u001b[1;32mraise\u001b[0m \u001b[0mValueError\u001b[0m\u001b[1;33m(\u001b[0m\u001b[1;34m\"Number of samples, %s, must be non-negative.\"\u001b[0m \u001b[1;33m%\u001b[0m \u001b[0mnum\u001b[0m\u001b[1;33m)\u001b[0m\u001b[1;33m\u001b[0m\u001b[1;33m\u001b[0m\u001b[0m\n",
      "\u001b[1;31mTypeError\u001b[0m: 'tuple' object cannot be interpreted as an integer"
     ]
    }
   ],
   "source": [
    "np.linspace(-1, 1, (5, 2))"
   ]
  },
  {
   "cell_type": "code",
   "execution_count": 16,
   "id": "fc7b8c55",
   "metadata": {},
   "outputs": [
    {
     "data": {
      "text/plain": [
       "array([[-1.        , -0.77777778],\n",
       "       [-0.55555556, -0.33333333],\n",
       "       [-0.11111111,  0.11111111],\n",
       "       [ 0.33333333,  0.55555556],\n",
       "       [ 0.77777778,  1.        ]])"
      ]
     },
     "execution_count": 16,
     "metadata": {},
     "output_type": "execute_result"
    }
   ],
   "source": [
    "np.linspace(-1,1,10).reshape(5,2)"
   ]
  },
  {
   "cell_type": "code",
   "execution_count": null,
   "id": "607ccf77",
   "metadata": {},
   "outputs": [],
   "source": []
  },
  {
   "cell_type": "code",
   "execution_count": 17,
   "id": "aa5a46c7",
   "metadata": {},
   "outputs": [
    {
     "ename": "TypeError",
     "evalue": "Cannot interpret '2' as a data type",
     "output_type": "error",
     "traceback": [
      "\u001b[1;31m---------------------------------------------------------------------------\u001b[0m",
      "\u001b[1;31mTypeError\u001b[0m                                 Traceback (most recent call last)",
      "\u001b[1;32mC:\\Users\\PANKAJ~1\\AppData\\Local\\Temp/ipykernel_1088/678722081.py\u001b[0m in \u001b[0;36m<module>\u001b[1;34m\u001b[0m\n\u001b[1;32m----> 1\u001b[1;33m \u001b[0mnp\u001b[0m\u001b[1;33m.\u001b[0m\u001b[0mzeros\u001b[0m\u001b[1;33m(\u001b[0m\u001b[1;36m5\u001b[0m\u001b[1;33m,\u001b[0m\u001b[1;36m2\u001b[0m\u001b[1;33m)\u001b[0m\u001b[1;33m\u001b[0m\u001b[1;33m\u001b[0m\u001b[0m\n\u001b[0m",
      "\u001b[1;31mTypeError\u001b[0m: Cannot interpret '2' as a data type"
     ]
    }
   ],
   "source": [
    "np.zeros(5,2)"
   ]
  },
  {
   "cell_type": "code",
   "execution_count": 18,
   "id": "ecff689a",
   "metadata": {},
   "outputs": [
    {
     "data": {
      "text/plain": [
       "array([[0., 0.],\n",
       "       [0., 0.],\n",
       "       [0., 0.],\n",
       "       [0., 0.],\n",
       "       [0., 0.]])"
      ]
     },
     "execution_count": 18,
     "metadata": {},
     "output_type": "execute_result"
    }
   ],
   "source": [
    "np.zeros((5,2))"
   ]
  },
  {
   "cell_type": "code",
   "execution_count": 19,
   "id": "a3a083f4",
   "metadata": {},
   "outputs": [
    {
     "data": {
      "text/plain": [
       "array([0., 0., 0., 0., 0., 0., 0., 0., 0., 0.])"
      ]
     },
     "execution_count": 19,
     "metadata": {},
     "output_type": "execute_result"
    }
   ],
   "source": [
    "np.zeros(10)"
   ]
  },
  {
   "cell_type": "code",
   "execution_count": 20,
   "id": "d94c09b9",
   "metadata": {},
   "outputs": [
    {
     "data": {
      "text/plain": [
       "array([[5., 5., 5., 5., 5., 5., 5., 5., 5., 5.],\n",
       "       [5., 5., 5., 5., 5., 5., 5., 5., 5., 5.],\n",
       "       [5., 5., 5., 5., 5., 5., 5., 5., 5., 5.],\n",
       "       [5., 5., 5., 5., 5., 5., 5., 5., 5., 5.],\n",
       "       [5., 5., 5., 5., 5., 5., 5., 5., 5., 5.]])"
      ]
     },
     "execution_count": 20,
     "metadata": {},
     "output_type": "execute_result"
    }
   ],
   "source": [
    "np.zeros((5,10))+5"
   ]
  },
  {
   "cell_type": "code",
   "execution_count": 21,
   "id": "95e9797c",
   "metadata": {},
   "outputs": [
    {
     "data": {
      "text/plain": [
       "array([1., 1., 1., 1., 1., 1., 1., 1., 1., 1.])"
      ]
     },
     "execution_count": 21,
     "metadata": {},
     "output_type": "execute_result"
    }
   ],
   "source": [
    "np.ones(10)"
   ]
  },
  {
   "cell_type": "code",
   "execution_count": 22,
   "id": "9a44be4e",
   "metadata": {},
   "outputs": [
    {
     "data": {
      "text/plain": [
       "array([[10., 10., 10., 10., 10.],\n",
       "       [10., 10., 10., 10., 10.],\n",
       "       [10., 10., 10., 10., 10.],\n",
       "       [10., 10., 10., 10., 10.],\n",
       "       [10., 10., 10., 10., 10.]])"
      ]
     },
     "execution_count": 22,
     "metadata": {},
     "output_type": "execute_result"
    }
   ],
   "source": [
    "np.ones((5,5)) * 10"
   ]
  },
  {
   "cell_type": "code",
   "execution_count": null,
   "id": "66f3d7ec",
   "metadata": {},
   "outputs": [],
   "source": []
  },
  {
   "cell_type": "markdown",
   "id": "63eaf91d",
   "metadata": {},
   "source": [
    "### Question\n",
    "\n",
    "            [[30, 35, 30, 35, 30],\n",
    "            [30, 35, 30, 35, 30],\n",
    "            [30, 35, 30, 35, 30],\n",
    "            [30, 35, 30, 35, 30],\n",
    "            [30, 35, 30, 35, 30]]"
   ]
  },
  {
   "cell_type": "code",
   "execution_count": 23,
   "id": "17a8aa42",
   "metadata": {},
   "outputs": [],
   "source": [
    "b = np.ones((5,5))*5 * (np.zeros((5,5))+6)"
   ]
  },
  {
   "cell_type": "code",
   "execution_count": 24,
   "id": "cb8ee438",
   "metadata": {},
   "outputs": [],
   "source": [
    "b[:,1:2] = 35"
   ]
  },
  {
   "cell_type": "code",
   "execution_count": 25,
   "id": "6acd8335",
   "metadata": {},
   "outputs": [
    {
     "data": {
      "text/plain": [
       "array([[30., 35., 30., 30., 30.],\n",
       "       [30., 35., 30., 30., 30.],\n",
       "       [30., 35., 30., 30., 30.],\n",
       "       [30., 35., 30., 30., 30.],\n",
       "       [30., 35., 30., 30., 30.]])"
      ]
     },
     "execution_count": 25,
     "metadata": {},
     "output_type": "execute_result"
    }
   ],
   "source": [
    "b"
   ]
  },
  {
   "cell_type": "code",
   "execution_count": null,
   "id": "f050336d",
   "metadata": {},
   "outputs": [],
   "source": []
  },
  {
   "cell_type": "code",
   "execution_count": 27,
   "id": "595cfd46",
   "metadata": {},
   "outputs": [
    {
     "name": "stdout",
     "output_type": "stream",
     "text": [
      "['BitGenerator', 'Generator', 'MT19937', 'PCG64', 'PCG64DXSM', 'Philox', 'RandomState', 'SFC64', 'SeedSequence', '__RandomState_ctor', '__all__', '__builtins__', '__cached__', '__doc__', '__file__', '__loader__', '__name__', '__package__', '__path__', '__spec__', '_bounded_integers', '_common', '_generator', '_mt19937', '_pcg64', '_philox', '_pickle', '_sfc64', 'beta', 'binomial', 'bit_generator', 'bytes', 'chisquare', 'choice', 'default_rng', 'dirichlet', 'exponential', 'f', 'gamma', 'geometric', 'get_state', 'gumbel', 'hypergeometric', 'laplace', 'logistic', 'lognormal', 'logseries', 'mtrand', 'multinomial', 'multivariate_normal', 'negative_binomial', 'noncentral_chisquare', 'noncentral_f', 'normal', 'pareto', 'permutation', 'poisson', 'power', 'rand', 'randint', 'randn', 'random', 'random_integers', 'random_sample', 'ranf', 'rayleigh', 'sample', 'seed', 'set_state', 'shuffle', 'standard_cauchy', 'standard_exponential', 'standard_gamma', 'standard_normal', 'standard_t', 'test', 'triangular', 'uniform', 'vonmises', 'wald', 'weibull', 'zipf']\n"
     ]
    }
   ],
   "source": [
    "print(dir(np.random))"
   ]
  },
  {
   "cell_type": "code",
   "execution_count": 28,
   "id": "272edfc5",
   "metadata": {},
   "outputs": [
    {
     "data": {
      "text/plain": [
       "array([0.89660606, 0.99923302, 0.43178633, 0.42316907, 0.94406476,\n",
       "       0.98450938, 0.44851681, 0.6604015 , 0.03385487, 0.50218963])"
      ]
     },
     "execution_count": 28,
     "metadata": {},
     "output_type": "execute_result"
    }
   ],
   "source": [
    "np.random.random(10)"
   ]
  },
  {
   "cell_type": "code",
   "execution_count": 29,
   "id": "6c2c4597",
   "metadata": {},
   "outputs": [
    {
     "data": {
      "text/plain": [
       "array([36, 26, 93, 56, 35, 28, 33, 43, 61, 59])"
      ]
     },
     "execution_count": 29,
     "metadata": {},
     "output_type": "execute_result"
    }
   ],
   "source": [
    "maths"
   ]
  },
  {
   "cell_type": "code",
   "execution_count": 30,
   "id": "a638a5df",
   "metadata": {},
   "outputs": [],
   "source": [
    "np.random.shuffle(maths)"
   ]
  },
  {
   "cell_type": "code",
   "execution_count": 31,
   "id": "92f81c94",
   "metadata": {},
   "outputs": [
    {
     "data": {
      "text/plain": [
       "array([43, 35, 26, 59, 36, 61, 93, 56, 33, 28])"
      ]
     },
     "execution_count": 31,
     "metadata": {},
     "output_type": "execute_result"
    }
   ],
   "source": [
    "maths"
   ]
  },
  {
   "cell_type": "code",
   "execution_count": 32,
   "id": "7a952ae9",
   "metadata": {},
   "outputs": [],
   "source": [
    "normal = np.random.randn(1000)"
   ]
  },
  {
   "cell_type": "code",
   "execution_count": 33,
   "id": "dd8e9c1d",
   "metadata": {},
   "outputs": [
    {
     "data": {
      "text/plain": [
       "0"
      ]
     },
     "execution_count": 33,
     "metadata": {},
     "output_type": "execute_result"
    }
   ],
   "source": [
    "round(normal.mean())"
   ]
  },
  {
   "cell_type": "code",
   "execution_count": 34,
   "id": "7e35d45a",
   "metadata": {},
   "outputs": [
    {
     "data": {
      "text/plain": [
       "0"
      ]
     },
     "execution_count": 34,
     "metadata": {},
     "output_type": "execute_result"
    }
   ],
   "source": [
    "round(np.median(normal))"
   ]
  },
  {
   "cell_type": "code",
   "execution_count": 35,
   "id": "71099c2a",
   "metadata": {},
   "outputs": [],
   "source": [
    "normal = np.random.normal(5,2,10000)"
   ]
  },
  {
   "cell_type": "code",
   "execution_count": 36,
   "id": "e1da8173",
   "metadata": {},
   "outputs": [
    {
     "data": {
      "text/plain": [
       "5.019682991058294"
      ]
     },
     "execution_count": 36,
     "metadata": {},
     "output_type": "execute_result"
    }
   ],
   "source": [
    "normal.mean()"
   ]
  },
  {
   "cell_type": "code",
   "execution_count": 37,
   "id": "2b007871",
   "metadata": {},
   "outputs": [
    {
     "data": {
      "text/plain": [
       "2.017290161796863"
      ]
     },
     "execution_count": 37,
     "metadata": {},
     "output_type": "execute_result"
    }
   ],
   "source": [
    "normal.std()"
   ]
  },
  {
   "cell_type": "code",
   "execution_count": 39,
   "id": "408e74b4",
   "metadata": {},
   "outputs": [
    {
     "data": {
      "image/png": "[encoded data removed]",
      "text/plain": [
       "<Figure size 432x288 with 1 Axes>"
      ]
     },
     "metadata": {
      "needs_background": "light"
     },
     "output_type": "display_data"
    }
   ],
   "source": [
    "plt.hist(normal, ec='k',bins=20)\n",
    "plt.show()"
   ]
  },
  {
   "cell_type": "code",
   "execution_count": 40,
   "id": "7dd78ea1",
   "metadata": {},
   "outputs": [],
   "source": [
    "deg = np.arange(0,360,15)"
   ]
  },
  {
   "cell_type": "code",
   "execution_count": 41,
   "id": "11465718",
   "metadata": {},
   "outputs": [],
   "source": [
    "sin = np.sin(deg)"
   ]
  },
  {
   "cell_type": "code",
   "execution_count": 42,
   "id": "4834d578",
   "metadata": {},
   "outputs": [],
   "source": [
    "cos = np.cos(deg)"
   ]
  },
  {
   "cell_type": "code",
   "execution_count": 43,
   "id": "f70f5236",
   "metadata": {},
   "outputs": [
    {
     "data": {
      "text/plain": [
       "[<matplotlib.lines.Line2D at 0x15c4b235820>]"
      ]
     },
     "execution_count": 43,
     "metadata": {},
     "output_type": "execute_result"
    },
    {
     "data": {
      "image/png": "[encoded data removed]",
      "text/plain": [
       "<Figure size 432x288 with 1 Axes>"
      ]
     },
     "metadata": {
      "needs_background": "light"
     },
     "output_type": "display_data"
    }
   ],
   "source": [
    "plt.plot(deg,sin,'--')"
   ]
  },
  {
   "cell_type": "code",
   "execution_count": 46,
   "id": "400ec061",
   "metadata": {},
   "outputs": [],
   "source": [
    "rad = np.deg2rad(deg)\n",
    "sin = np.sin(rad)\n",
    "cos = np.cos(rad)"
   ]
  },
  {
   "cell_type": "code",
   "execution_count": 47,
   "id": "32f6c31d",
   "metadata": {},
   "outputs": [
    {
     "data": {
      "text/plain": [
       "<matplotlib.legend.Legend at 0x15c4b2b3fa0>"
      ]
     },
     "execution_count": 47,
     "metadata": {},
     "output_type": "execute_result"
    },
    {
     "data": {
      "image/png": "[encoded data removed]",
      "text/plain": [
       "<Figure size 720x360 with 1 Axes>"
      ]
     },
     "metadata": {
      "needs_background": "light"
     },
     "output_type": "display_data"
    }
   ],
   "source": [
    "plt.figure(figsize=(10,5))\n",
    "plt.plot(rad, sin, '--',label=\"SIN(X)\")\n",
    "plt.plot(rad, cos, '--',label=\"COS(X)\")\n",
    "plt.legend()"
   ]
  },
  {
   "cell_type": "code",
   "execution_count": 48,
   "id": "8c5a4e8e",
   "metadata": {},
   "outputs": [
    {
     "data": {
      "text/plain": [
       "[<matplotlib.lines.Line2D at 0x15c4b343220>]"
      ]
     },
     "execution_count": 48,
     "metadata": {},
     "output_type": "execute_result"
    },
    {
     "data": {
      "image/png": "[encoded data removed]",
      "text/plain": [
       "<Figure size 432x288 with 1 Axes>"
      ]
     },
     "metadata": {
      "needs_background": "light"
     },
     "output_type": "display_data"
    }
   ],
   "source": [
    "tan = np.tan(rad)\n",
    "plt.plot(rad, tan)"
   ]
  },
  {
   "cell_type": "code",
   "execution_count": null,
   "id": "d84de92c",
   "metadata": {},
   "outputs": [],
   "source": []
  },
  {
   "cell_type": "code",
   "execution_count": 49,
   "id": "a3e49e6b",
   "metadata": {},
   "outputs": [
    {
     "data": {
      "text/plain": [
       "3.141592653589793"
      ]
     },
     "execution_count": 49,
     "metadata": {},
     "output_type": "execute_result"
    }
   ],
   "source": [
    "np.pi"
   ]
  },
  {
   "cell_type": "code",
   "execution_count": 50,
   "id": "88527614",
   "metadata": {},
   "outputs": [
    {
     "data": {
      "text/plain": [
       "array([43, 35, 26, 59, 36, 61, 93, 56, 33, 28, 10])"
      ]
     },
     "execution_count": 50,
     "metadata": {},
     "output_type": "execute_result"
    }
   ],
   "source": [
    "np.append(maths,10)"
   ]
  },
  {
   "cell_type": "code",
   "execution_count": 51,
   "id": "d6bb8c03",
   "metadata": {},
   "outputs": [
    {
     "data": {
      "text/plain": [
       "array([43, 35, 26, 59, 36, 61, 93, 56, 33, 28, 77, 98, 78, 60, 89, 72, 30,\n",
       "       97, 21, 52])"
      ]
     },
     "execution_count": 51,
     "metadata": {},
     "output_type": "execute_result"
    }
   ],
   "source": [
    "np.append(maths,eng)"
   ]
  },
  {
   "cell_type": "code",
   "execution_count": 52,
   "id": "1101ad6f",
   "metadata": {},
   "outputs": [
    {
     "data": {
      "text/plain": [
       "array([77, 98, 78, 60, 89, 72, 30, 97, 21, 52])"
      ]
     },
     "execution_count": 52,
     "metadata": {},
     "output_type": "execute_result"
    }
   ],
   "source": [
    "eng"
   ]
  },
  {
   "cell_type": "code",
   "execution_count": 53,
   "id": "6f9e58de",
   "metadata": {},
   "outputs": [
    {
     "ename": "TypeError",
     "evalue": "only integer scalar arrays can be converted to a scalar index",
     "output_type": "error",
     "traceback": [
      "\u001b[1;31m---------------------------------------------------------------------------\u001b[0m",
      "\u001b[1;31mTypeError\u001b[0m                                 Traceback (most recent call last)",
      "\u001b[1;32mC:\\Users\\PANKAJ~1\\AppData\\Local\\Temp/ipykernel_1088/256868470.py\u001b[0m in \u001b[0;36m<module>\u001b[1;34m\u001b[0m\n\u001b[1;32m----> 1\u001b[1;33m \u001b[0mnp\u001b[0m\u001b[1;33m.\u001b[0m\u001b[0mappend\u001b[0m\u001b[1;33m(\u001b[0m\u001b[0mmaths\u001b[0m\u001b[1;33m,\u001b[0m \u001b[0meng\u001b[0m\u001b[1;33m,\u001b[0m \u001b[0msci\u001b[0m\u001b[1;33m)\u001b[0m\u001b[1;33m\u001b[0m\u001b[1;33m\u001b[0m\u001b[0m\n\u001b[0m",
      "\u001b[1;32m<__array_function__ internals>\u001b[0m in \u001b[0;36mappend\u001b[1;34m(*args, **kwargs)\u001b[0m\n",
      "\u001b[1;32mC:\\python\\python38\\lib\\site-packages\\numpy\\lib\\function_base.py\u001b[0m in \u001b[0;36mappend\u001b[1;34m(arr, values, axis)\u001b[0m\n\u001b[0;32m   4815\u001b[0m         \u001b[0mvalues\u001b[0m \u001b[1;33m=\u001b[0m \u001b[0mravel\u001b[0m\u001b[1;33m(\u001b[0m\u001b[0mvalues\u001b[0m\u001b[1;33m)\u001b[0m\u001b[1;33m\u001b[0m\u001b[1;33m\u001b[0m\u001b[0m\n\u001b[0;32m   4816\u001b[0m         \u001b[0maxis\u001b[0m \u001b[1;33m=\u001b[0m \u001b[0marr\u001b[0m\u001b[1;33m.\u001b[0m\u001b[0mndim\u001b[0m\u001b[1;33m-\u001b[0m\u001b[1;36m1\u001b[0m\u001b[1;33m\u001b[0m\u001b[1;33m\u001b[0m\u001b[0m\n\u001b[1;32m-> 4817\u001b[1;33m     \u001b[1;32mreturn\u001b[0m \u001b[0mconcatenate\u001b[0m\u001b[1;33m(\u001b[0m\u001b[1;33m(\u001b[0m\u001b[0marr\u001b[0m\u001b[1;33m,\u001b[0m \u001b[0mvalues\u001b[0m\u001b[1;33m)\u001b[0m\u001b[1;33m,\u001b[0m \u001b[0maxis\u001b[0m\u001b[1;33m=\u001b[0m\u001b[0maxis\u001b[0m\u001b[1;33m)\u001b[0m\u001b[1;33m\u001b[0m\u001b[1;33m\u001b[0m\u001b[0m\n\u001b[0m\u001b[0;32m   4818\u001b[0m \u001b[1;33m\u001b[0m\u001b[0m\n\u001b[0;32m   4819\u001b[0m \u001b[1;33m\u001b[0m\u001b[0m\n",
      "\u001b[1;32m<__array_function__ internals>\u001b[0m in \u001b[0;36mconcatenate\u001b[1;34m(*args, **kwargs)\u001b[0m\n",
      "\u001b[1;31mTypeError\u001b[0m: only integer scalar arrays can be converted to a scalar index"
     ]
    }
   ],
   "source": [
    "np.append(maths, eng, sci)"
   ]
  },
  {
   "cell_type": "code",
   "execution_count": 54,
   "id": "327630fd",
   "metadata": {},
   "outputs": [
    {
     "data": {
      "text/plain": [
       "array([43, 35, 26, 59, 36, 61, 93, 56, 33, 28, 23, 57, 32, 37, 97, 72, 23,\n",
       "       47, 73, 64, 77, 98, 78, 60, 89, 72, 30, 97, 21, 52])"
      ]
     },
     "execution_count": 54,
     "metadata": {},
     "output_type": "execute_result"
    }
   ],
   "source": [
    "np.append(maths, [sci, eng])"
   ]
  },
  {
   "cell_type": "code",
   "execution_count": null,
   "id": "92e460db",
   "metadata": {},
   "outputs": [],
   "source": []
  },
  {
   "cell_type": "code",
   "execution_count": 55,
   "id": "2fa1f292",
   "metadata": {},
   "outputs": [
    {
     "data": {
      "text/plain": [
       "array([[15, 14, 15, 16, 11],\n",
       "       [19, 13, 12, 16, 14],\n",
       "       [16, 17, 16, 10, 12],\n",
       "       [10, 12, 12, 16, 17],\n",
       "       [16, 19, 10, 10, 12]])"
      ]
     },
     "execution_count": 55,
     "metadata": {},
     "output_type": "execute_result"
    }
   ],
   "source": [
    "arr2"
   ]
  },
  {
   "cell_type": "code",
   "execution_count": 56,
   "id": "533dedf4",
   "metadata": {},
   "outputs": [
    {
     "data": {
      "text/plain": [
       "array([15, 14, 15, 16, 11, 19, 13, 12, 16, 14, 16, 17, 16, 10, 12, 10, 12,\n",
       "       12, 16, 17, 16, 19, 10, 10, 12, 15, 14, 15, 16, 11, 19, 13, 12, 16,\n",
       "       14, 16, 17, 16, 10, 12, 10, 12, 12, 16, 17, 16, 19, 10, 10, 12])"
      ]
     },
     "execution_count": 56,
     "metadata": {},
     "output_type": "execute_result"
    }
   ],
   "source": [
    "np.append(arr2, arr2)"
   ]
  },
  {
   "cell_type": "code",
   "execution_count": 57,
   "id": "fe7b50a4",
   "metadata": {},
   "outputs": [
    {
     "data": {
      "text/plain": [
       "array([15, 14, 15, 16, 11, 19, 13, 12, 16, 14, 16, 17, 16, 10, 12, 10, 12,\n",
       "       12, 16, 17, 16, 19, 10, 10, 12, 10])"
      ]
     },
     "execution_count": 57,
     "metadata": {},
     "output_type": "execute_result"
    }
   ],
   "source": [
    "np.append(arr2,10)"
   ]
  },
  {
   "cell_type": "code",
   "execution_count": 58,
   "id": "fee8653c",
   "metadata": {},
   "outputs": [
    {
     "data": {
      "text/plain": [
       "array([[15, 14, 15, 16, 11],\n",
       "       [19, 13, 12, 16, 14],\n",
       "       [16, 17, 16, 10, 12],\n",
       "       [10, 12, 12, 16, 17],\n",
       "       [16, 19, 10, 10, 12],\n",
       "       [15, 14, 15, 16, 11],\n",
       "       [19, 13, 12, 16, 14],\n",
       "       [16, 17, 16, 10, 12],\n",
       "       [10, 12, 12, 16, 17],\n",
       "       [16, 19, 10, 10, 12]])"
      ]
     },
     "execution_count": 58,
     "metadata": {},
     "output_type": "execute_result"
    }
   ],
   "source": [
    "np.append(arr2, arr2, axis=0)"
   ]
  },
  {
   "cell_type": "code",
   "execution_count": 59,
   "id": "2c5b9f60",
   "metadata": {},
   "outputs": [
    {
     "data": {
      "text/plain": [
       "array([[15, 14, 15, 16, 11, 15, 14, 15, 16, 11],\n",
       "       [19, 13, 12, 16, 14, 19, 13, 12, 16, 14],\n",
       "       [16, 17, 16, 10, 12, 16, 17, 16, 10, 12],\n",
       "       [10, 12, 12, 16, 17, 10, 12, 12, 16, 17],\n",
       "       [16, 19, 10, 10, 12, 16, 19, 10, 10, 12]])"
      ]
     },
     "execution_count": 59,
     "metadata": {},
     "output_type": "execute_result"
    }
   ],
   "source": [
    "np.append(arr2,arr2, axis=1)"
   ]
  },
  {
   "cell_type": "code",
   "execution_count": 60,
   "id": "baf92ef1",
   "metadata": {},
   "outputs": [
    {
     "data": {
      "text/plain": [
       "array([[15, 14, 15, 16, 11],\n",
       "       [19, 13, 12, 16, 14],\n",
       "       [16, 17, 16, 10, 12],\n",
       "       [10, 12, 12, 16, 17],\n",
       "       [16, 19, 10, 10, 12],\n",
       "       [10, 20, 30, 40, 50]])"
      ]
     },
     "execution_count": 60,
     "metadata": {},
     "output_type": "execute_result"
    }
   ],
   "source": [
    "np.append(arr2, [[10,20,30,40,50]], axis=0)"
   ]
  },
  {
   "cell_type": "code",
   "execution_count": 61,
   "id": "aca02c02",
   "metadata": {},
   "outputs": [
    {
     "data": {
      "text/plain": [
       "array([[15, 14, 15, 16, 11],\n",
       "       [19, 13, 12, 16, 14],\n",
       "       [16, 17, 16, 10, 12],\n",
       "       [10, 12, 12, 16, 17],\n",
       "       [16, 19, 10, 10, 12]])"
      ]
     },
     "execution_count": 61,
     "metadata": {},
     "output_type": "execute_result"
    }
   ],
   "source": [
    "arr2"
   ]
  },
  {
   "cell_type": "code",
   "execution_count": 62,
   "id": "1233eb79",
   "metadata": {},
   "outputs": [
    {
     "data": {
      "text/plain": [
       "array([[15, 14, 15, 16, 11, 10],\n",
       "       [19, 13, 12, 16, 14, 20],\n",
       "       [16, 17, 16, 10, 12, 30],\n",
       "       [10, 12, 12, 16, 17, 40],\n",
       "       [16, 19, 10, 10, 12, 50]])"
      ]
     },
     "execution_count": 62,
     "metadata": {},
     "output_type": "execute_result"
    }
   ],
   "source": [
    "np.append(arr2, [[10],[20],[30],[40],[50]], axis=1)"
   ]
  },
  {
   "cell_type": "code",
   "execution_count": null,
   "id": "9e963468",
   "metadata": {},
   "outputs": [],
   "source": []
  },
  {
   "cell_type": "code",
   "execution_count": 63,
   "id": "923c1b89",
   "metadata": {},
   "outputs": [
    {
     "data": {
      "text/plain": [
       "array([[15, 14, 15, 16, 11, 15, 14, 15, 16, 11],\n",
       "       [19, 13, 12, 16, 14, 19, 13, 12, 16, 14],\n",
       "       [16, 17, 16, 10, 12, 16, 17, 16, 10, 12],\n",
       "       [10, 12, 12, 16, 17, 10, 12, 12, 16, 17],\n",
       "       [16, 19, 10, 10, 12, 16, 19, 10, 10, 12]])"
      ]
     },
     "execution_count": 63,
     "metadata": {},
     "output_type": "execute_result"
    }
   ],
   "source": [
    "np.concatenate((arr2,arr2),axis=1)"
   ]
  },
  {
   "cell_type": "code",
   "execution_count": 64,
   "id": "c74330b8",
   "metadata": {},
   "outputs": [
    {
     "data": {
      "text/plain": [
       "array([43, 35, 26, 59, 36, 61, 93, 56, 33, 28, 23, 57, 32, 37, 97, 72, 23,\n",
       "       47, 73, 64, 77, 98, 78, 60, 89, 72, 30, 97, 21, 52])"
      ]
     },
     "execution_count": 64,
     "metadata": {},
     "output_type": "execute_result"
    }
   ],
   "source": [
    "np.concatenate((maths, sci, eng))"
   ]
  },
  {
   "cell_type": "code",
   "execution_count": null,
   "id": "5b3f4c5a",
   "metadata": {},
   "outputs": [],
   "source": []
  },
  {
   "cell_type": "code",
   "execution_count": 65,
   "id": "290246ce",
   "metadata": {},
   "outputs": [
    {
     "data": {
      "text/plain": [
       "array([[43, 23],\n",
       "       [35, 57],\n",
       "       [26, 32],\n",
       "       [59, 37],\n",
       "       [36, 97],\n",
       "       [61, 72],\n",
       "       [93, 23],\n",
       "       [56, 47],\n",
       "       [33, 73],\n",
       "       [28, 64]])"
      ]
     },
     "execution_count": 65,
     "metadata": {},
     "output_type": "execute_result"
    }
   ],
   "source": [
    "np.column_stack((maths, sci))"
   ]
  },
  {
   "cell_type": "code",
   "execution_count": 66,
   "id": "0bdbd6b1",
   "metadata": {},
   "outputs": [
    {
     "data": {
      "text/plain": [
       "array([[43, 35, 26, 59, 36, 61, 93, 56, 33, 28],\n",
       "       [23, 57, 32, 37, 97, 72, 23, 47, 73, 64]])"
      ]
     },
     "execution_count": 66,
     "metadata": {},
     "output_type": "execute_result"
    }
   ],
   "source": [
    "np.row_stack((maths, sci))"
   ]
  },
  {
   "cell_type": "code",
   "execution_count": 67,
   "id": "ef75cbf7",
   "metadata": {},
   "outputs": [],
   "source": [
    "import pandas as pd"
   ]
  },
  {
   "cell_type": "code",
   "execution_count": 68,
   "id": "3d50a89e",
   "metadata": {},
   "outputs": [],
   "source": [
    "col = np.column_stack((maths, sci))"
   ]
  },
  {
   "cell_type": "code",
   "execution_count": 70,
   "id": "6ea4d14d",
   "metadata": {},
   "outputs": [
    {
     "data": {
      "text/html": [
       "<div>\n",
       "<style scoped>\n",
       "    .dataframe tbody tr th:only-of-type {\n",
       "        vertical-align: middle;\n",
       "    }\n",
       "\n",
       "    .dataframe tbody tr th {\n",
       "        vertical-align: top;\n",
       "    }\n",
       "\n",
       "    .dataframe thead th {\n",
       "        text-align: right;\n",
       "    }\n",
       "</style>\n",
       "<table border=\"1\" class=\"dataframe\">\n",
       "  <thead>\n",
       "    <tr style=\"text-align: right;\">\n",
       "      <th></th>\n",
       "      <th>MATHS</th>\n",
       "      <th>SCI</th>\n",
       "    </tr>\n",
       "  </thead>\n",
       "  <tbody>\n",
       "    <tr>\n",
       "      <th>0</th>\n",
       "      <td>43</td>\n",
       "      <td>23</td>\n",
       "    </tr>\n",
       "    <tr>\n",
       "      <th>1</th>\n",
       "      <td>35</td>\n",
       "      <td>57</td>\n",
       "    </tr>\n",
       "    <tr>\n",
       "      <th>2</th>\n",
       "      <td>26</td>\n",
       "      <td>32</td>\n",
       "    </tr>\n",
       "    <tr>\n",
       "      <th>3</th>\n",
       "      <td>59</td>\n",
       "      <td>37</td>\n",
       "    </tr>\n",
       "    <tr>\n",
       "      <th>4</th>\n",
       "      <td>36</td>\n",
       "      <td>97</td>\n",
       "    </tr>\n",
       "    <tr>\n",
       "      <th>5</th>\n",
       "      <td>61</td>\n",
       "      <td>72</td>\n",
       "    </tr>\n",
       "    <tr>\n",
       "      <th>6</th>\n",
       "      <td>93</td>\n",
       "      <td>23</td>\n",
       "    </tr>\n",
       "    <tr>\n",
       "      <th>7</th>\n",
       "      <td>56</td>\n",
       "      <td>47</td>\n",
       "    </tr>\n",
       "    <tr>\n",
       "      <th>8</th>\n",
       "      <td>33</td>\n",
       "      <td>73</td>\n",
       "    </tr>\n",
       "    <tr>\n",
       "      <th>9</th>\n",
       "      <td>28</td>\n",
       "      <td>64</td>\n",
       "    </tr>\n",
       "  </tbody>\n",
       "</table>\n",
       "</div>"
      ],
      "text/plain": [
       "   MATHS  SCI\n",
       "0     43   23\n",
       "1     35   57\n",
       "2     26   32\n",
       "3     59   37\n",
       "4     36   97\n",
       "5     61   72\n",
       "6     93   23\n",
       "7     56   47\n",
       "8     33   73\n",
       "9     28   64"
      ]
     },
     "execution_count": 70,
     "metadata": {},
     "output_type": "execute_result"
    }
   ],
   "source": [
    "pd.DataFrame(col, columns=['MATHS', \"SCI\"])"
   ]
  },
  {
   "cell_type": "code",
   "execution_count": 71,
   "id": "97ab9aff",
   "metadata": {},
   "outputs": [
    {
     "data": {
      "text/plain": [
       "array([43, 35, 26, 59, 36, 61, 93, 56, 33, 28, 23, 57, 32, 37, 97, 72, 23,\n",
       "       47, 73, 64])"
      ]
     },
     "execution_count": 71,
     "metadata": {},
     "output_type": "execute_result"
    }
   ],
   "source": [
    "np.hstack((maths, sci))"
   ]
  },
  {
   "cell_type": "code",
   "execution_count": 72,
   "id": "fbb5d94a",
   "metadata": {
    "scrolled": true
   },
   "outputs": [
    {
     "name": "stdout",
     "output_type": "stream",
     "text": [
      "Help on function hstack in module numpy:\n",
      "\n",
      "hstack(tup)\n",
      "    Stack arrays in sequence horizontally (column wise).\n",
      "    \n",
      "    This is equivalent to concatenation along the second axis, except for 1-D\n",
      "    arrays where it concatenates along the first axis. Rebuilds arrays divided\n",
      "    by `hsplit`.\n",
      "    \n",
      "    This function makes most sense for arrays with up to 3 dimensions. For\n",
      "    instance, for pixel-data with a height (first axis), width (second axis),\n",
      "    and r/g/b channels (third axis). The functions `concatenate`, `stack` and\n",
      "    `block` provide more general stacking and concatenation operations.\n",
      "    \n",
      "    Parameters\n",
      "    ----------\n",
      "    tup : sequence of ndarrays\n",
      "        The arrays must have the same shape along all but the second axis,\n",
      "        except 1-D arrays which can be any length.\n",
      "    \n",
      "    Returns\n",
      "    -------\n",
      "    stacked : ndarray\n",
      "        The array formed by stacking the given arrays.\n",
      "    \n",
      "    See Also\n",
      "    --------\n",
      "    concatenate : Join a sequence of arrays along an existing axis.\n",
      "    stack : Join a sequence of arrays along a new axis.\n",
      "    block : Assemble an nd-array from nested lists of blocks.\n",
      "    vstack : Stack arrays in sequence vertically (row wise).\n",
      "    dstack : Stack arrays in sequence depth wise (along third axis).\n",
      "    column_stack : Stack 1-D arrays as columns into a 2-D array.\n",
      "    hsplit : Split an array into multiple sub-arrays horizontally (column-wise).\n",
      "    \n",
      "    Examples\n",
      "    --------\n",
      "    >>> a = np.array((1,2,3))\n",
      "    >>> b = np.array((4,5,6))\n",
      "    >>> np.hstack((a,b))\n",
      "    array([1, 2, 3, 4, 5, 6])\n",
      "    >>> a = np.array([[1],[2],[3]])\n",
      "    >>> b = np.array([[4],[5],[6]])\n",
      "    >>> np.hstack((a,b))\n",
      "    array([[1, 4],\n",
      "           [2, 5],\n",
      "           [3, 6]])\n",
      "\n"
     ]
    }
   ],
   "source": [
    "help(np.hstack)"
   ]
  },
  {
   "cell_type": "code",
   "execution_count": 73,
   "id": "b8ffa4fa",
   "metadata": {},
   "outputs": [
    {
     "data": {
      "text/plain": [
       "array([[43, 23],\n",
       "       [35, 57],\n",
       "       [26, 32],\n",
       "       [59, 37],\n",
       "       [36, 97],\n",
       "       [61, 72],\n",
       "       [93, 23],\n",
       "       [56, 47],\n",
       "       [33, 73],\n",
       "       [28, 64]])"
      ]
     },
     "execution_count": 73,
     "metadata": {},
     "output_type": "execute_result"
    }
   ],
   "source": [
    "np.c_[maths,sci]"
   ]
  },
  {
   "cell_type": "code",
   "execution_count": 75,
   "id": "a3de3335",
   "metadata": {},
   "outputs": [
    {
     "data": {
      "text/plain": [
       "93"
      ]
     },
     "execution_count": 75,
     "metadata": {},
     "output_type": "execute_result"
    }
   ],
   "source": [
    "maths.max()"
   ]
  },
  {
   "cell_type": "code",
   "execution_count": 76,
   "id": "37d10e58",
   "metadata": {},
   "outputs": [
    {
     "data": {
      "text/plain": [
       "6"
      ]
     },
     "execution_count": 76,
     "metadata": {},
     "output_type": "execute_result"
    }
   ],
   "source": [
    "maths.argmax()"
   ]
  },
  {
   "cell_type": "code",
   "execution_count": 77,
   "id": "5a3b3d9a",
   "metadata": {},
   "outputs": [
    {
     "data": {
      "text/plain": [
       "array([43, 35, 26, 59, 36, 61, 93, 56, 33, 28])"
      ]
     },
     "execution_count": 77,
     "metadata": {},
     "output_type": "execute_result"
    }
   ],
   "source": [
    "maths"
   ]
  },
  {
   "cell_type": "code",
   "execution_count": 78,
   "id": "2f50ba7c",
   "metadata": {},
   "outputs": [
    {
     "data": {
      "text/plain": [
       "2"
      ]
     },
     "execution_count": 78,
     "metadata": {},
     "output_type": "execute_result"
    }
   ],
   "source": [
    "maths.argmin()"
   ]
  },
  {
   "cell_type": "code",
   "execution_count": 80,
   "id": "d2afce37",
   "metadata": {},
   "outputs": [],
   "source": [
    "maths.sort()"
   ]
  },
  {
   "cell_type": "code",
   "execution_count": 81,
   "id": "627311b2",
   "metadata": {},
   "outputs": [
    {
     "data": {
      "text/plain": [
       "array([26, 28, 33, 35, 36, 43, 56, 59, 61, 93])"
      ]
     },
     "execution_count": 81,
     "metadata": {},
     "output_type": "execute_result"
    }
   ],
   "source": [
    "maths"
   ]
  },
  {
   "cell_type": "code",
   "execution_count": 82,
   "id": "8afd2e9b",
   "metadata": {},
   "outputs": [
    {
     "data": {
      "text/plain": [
       "array([23, 57, 32, 37, 97, 72, 23, 47, 73, 64])"
      ]
     },
     "execution_count": 82,
     "metadata": {},
     "output_type": "execute_result"
    }
   ],
   "source": [
    "sci"
   ]
  },
  {
   "cell_type": "code",
   "execution_count": 83,
   "id": "46b6aa02",
   "metadata": {},
   "outputs": [
    {
     "data": {
      "text/plain": [
       "array([0, 6, 2, 3, 7, 1, 9, 5, 8, 4], dtype=int64)"
      ]
     },
     "execution_count": 83,
     "metadata": {},
     "output_type": "execute_result"
    }
   ],
   "source": [
    "np.argsort(sci)"
   ]
  },
  {
   "cell_type": "code",
   "execution_count": 84,
   "id": "29581d02",
   "metadata": {},
   "outputs": [
    {
     "data": {
      "text/plain": [
       "array([23, 23, 32, 37, 47, 57, 64, 72, 73, 97])"
      ]
     },
     "execution_count": 84,
     "metadata": {},
     "output_type": "execute_result"
    }
   ],
   "source": [
    "sci[np.argsort(sci)]"
   ]
  },
  {
   "cell_type": "code",
   "execution_count": 85,
   "id": "59feb9e5",
   "metadata": {},
   "outputs": [
    {
     "data": {
      "text/plain": [
       "array([23, 57, 32, 37, 97, 72, 23, 47, 73, 64])"
      ]
     },
     "execution_count": 85,
     "metadata": {},
     "output_type": "execute_result"
    }
   ],
   "source": [
    "sci"
   ]
  },
  {
   "cell_type": "code",
   "execution_count": 86,
   "id": "1e6b4d40",
   "metadata": {},
   "outputs": [
    {
     "data": {
      "text/plain": [
       "(array([1, 4, 5, 8, 9], dtype=int64),)"
      ]
     },
     "execution_count": 86,
     "metadata": {},
     "output_type": "execute_result"
    }
   ],
   "source": [
    "np.where(sci>50)"
   ]
  },
  {
   "cell_type": "code",
   "execution_count": 87,
   "id": "ca498844",
   "metadata": {},
   "outputs": [
    {
     "data": {
      "text/plain": [
       "array([46, 57, 64, 74, 97, 72, 46, 94, 73, 64])"
      ]
     },
     "execution_count": 87,
     "metadata": {},
     "output_type": "execute_result"
    }
   ],
   "source": [
    "np.where(sci>50,sci,sci*2)"
   ]
  },
  {
   "cell_type": "code",
   "execution_count": null,
   "id": "1c0d9106",
   "metadata": {},
   "outputs": [],
   "source": []
  },
  {
   "cell_type": "code",
   "execution_count": 88,
   "id": "78148970",
   "metadata": {},
   "outputs": [],
   "source": [
    "arr = np.random.randint(10, 50, 10)"
   ]
  },
  {
   "cell_type": "code",
   "execution_count": 89,
   "id": "23b2fd97",
   "metadata": {},
   "outputs": [
    {
     "data": {
      "text/plain": [
       "array([24, 45, 13, 31, 39, 38, 19, 23, 38, 37])"
      ]
     },
     "execution_count": 89,
     "metadata": {},
     "output_type": "execute_result"
    }
   ],
   "source": [
    "arr"
   ]
  },
  {
   "cell_type": "code",
   "execution_count": 90,
   "id": "eef5e150",
   "metadata": {},
   "outputs": [
    {
     "data": {
      "text/plain": [
       "array([45, 13, 31, 39, 38, 19, 23, 38, 37])"
      ]
     },
     "execution_count": 90,
     "metadata": {},
     "output_type": "execute_result"
    }
   ],
   "source": [
    "np.delete(arr, 0)"
   ]
  },
  {
   "cell_type": "code",
   "execution_count": null,
   "id": "54d19ca6",
   "metadata": {},
   "outputs": [],
   "source": []
  }
 ],
 "metadata": {
  "kernelspec": {
   "display_name": "Python 3 (ipykernel)",
   "language": "python",
   "name": "python3"
  },
  "language_info": {
   "codemirror_mode": {
    "name": "ipython",
    "version": 3
   },
   "file_extension": ".py",
   "mimetype": "text/x-python",
   "name": "python",
   "nbconvert_exporter": "python",
   "pygments_lexer": "ipython3",
   "version": "3.8.2"
  }
 },
 "nbformat": 4,
 "nbformat_minor": 5
}
